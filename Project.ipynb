{
  "nbformat": 4,
  "nbformat_minor": 0,
  "metadata": {
    "colab": {
      "name": "Project",
      "provenance": [],
      "collapsed_sections": [],
      "authorship_tag": "ABX9TyMOKKTsUnVdUl9nHn+0BlIr",
      "include_colab_link": true
    },
    "kernelspec": {
      "name": "python3",
      "display_name": "Python 3"
    }
  },
  "cells": [
    {
      "cell_type": "markdown",
      "metadata": {
        "id": "view-in-github",
        "colab_type": "text"
      },
      "source": [
        "<a href=\"https://colab.research.google.com/github/prathyusha0310/Research-project/blob/main/Project.ipynb\" target=\"_parent\"><img src=\"https://colab.research.google.com/assets/colab-badge.svg\" alt=\"Open In Colab\"/></a>"
      ]
    },
    {
      "cell_type": "code",
      "metadata": {
        "id": "XvBKxmdk6tSl"
      },
      "source": [
        "import os\n",
        "import numpy as np\n",
        "import pandas as pd\n",
        "import matplotlib.pyplot as plt\n",
        "from datetime import datetime"
      ],
      "execution_count": null,
      "outputs": []
    },
    {
      "cell_type": "code",
      "metadata": {
        "id": "4uw3V7tr98-3",
        "outputId": "c6a10834-3056-4813-8209-b4b96582d514",
        "colab": {
          "resources": {
            "http://localhost:8080/nbextensions/google.colab/files.js": {
              "data": "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",
              "ok": true,
              "headers": [
                [
                  "content-type",
                  "application/javascript"
                ]
              ],
              "status": 200,
              "status_text": ""
            }
          },
          "base_uri": "https://localhost:8080/",
          "height": 73
        }
      },
      "source": [
        "from google.colab import files\n",
        "uploaded=files.upload()"
      ],
      "execution_count": null,
      "outputs": [
        {
          "output_type": "display_data",
          "data": {
            "text/html": [
              "\n",
              "     <input type=\"file\" id=\"files-2245a3a6-5252-4003-bce8-cd144124f255\" name=\"files[]\" multiple disabled\n",
              "        style=\"border:none\" />\n",
              "     <output id=\"result-2245a3a6-5252-4003-bce8-cd144124f255\">\n",
              "      Upload widget is only available when the cell has been executed in the\n",
              "      current browser session. Please rerun this cell to enable.\n",
              "      </output>\n",
              "      <script src=\"/nbextensions/google.colab/files.js\"></script> "
            ],
            "text/plain": [
              "<IPython.core.display.HTML object>"
            ]
          },
          "metadata": {
            "tags": []
          }
        },
        {
          "output_type": "stream",
          "text": [
            "Saving Dataset.xlsx to Dataset.xlsx\n"
          ],
          "name": "stdout"
        }
      ]
    },
    {
      "cell_type": "code",
      "metadata": {
        "id": "HqqeoVaG_Iu6",
        "outputId": "2bba537f-c640-49df-964f-28025f41c1a0",
        "colab": {
          "base_uri": "https://localhost:8080/",
          "height": 380
        }
      },
      "source": [
        "import io\n",
        "df=pd.read_excel(io.BytesIO(uploaded['Dataset.xlsx']))\n",
        "df_original=df.copy()\n",
        "\n",
        "df = df.rename(columns = {\"Date (DD-MM-YYYY)\":\"date\"}) \n",
        "df.head(5)"
      ],
      "execution_count": null,
      "outputs": [
        {
          "output_type": "execute_result",
          "data": {
            "text/html": [
              "<div>\n",
              "<style scoped>\n",
              "    .dataframe tbody tr th:only-of-type {\n",
              "        vertical-align: middle;\n",
              "    }\n",
              "\n",
              "    .dataframe tbody tr th {\n",
              "        vertical-align: top;\n",
              "    }\n",
              "\n",
              "    .dataframe thead th {\n",
              "        text-align: right;\n",
              "    }\n",
              "</style>\n",
              "<table border=\"1\" class=\"dataframe\">\n",
              "  <thead>\n",
              "    <tr style=\"text-align: right;\">\n",
              "      <th></th>\n",
              "      <th>date</th>\n",
              "      <th>Shift</th>\n",
              "      <th>Time</th>\n",
              "      <th>IO-Division</th>\n",
              "      <th>IO-Department</th>\n",
              "      <th>Brief Description</th>\n",
              "      <th>Incident Category</th>\n",
              "      <th>Incident Location</th>\n",
              "      <th>Impact</th>\n",
              "      <th>Activity Type</th>\n",
              "      <th>Prime Cause</th>\n",
              "      <th>Risk Type Equipment</th>\n",
              "      <th>Risk Type Environment</th>\n",
              "      <th>Risk Type Injury</th>\n",
              "      <th>Risk Type Reputation</th>\n",
              "    </tr>\n",
              "  </thead>\n",
              "  <tbody>\n",
              "    <tr>\n",
              "      <th>0</th>\n",
              "      <td>2016-11-22</td>\n",
              "      <td>A</td>\n",
              "      <td>12:50:00</td>\n",
              "      <td>Engineering &amp; Project</td>\n",
              "      <td>Steel &amp; Mills</td>\n",
              "      <td>A slab of 17.1 T was supposed to be placed as ...</td>\n",
              "      <td>Near Miss</td>\n",
              "      <td>Workplace</td>\n",
              "      <td>First Aid</td>\n",
              "      <td>Construction Site</td>\n",
              "      <td>Fall from Height</td>\n",
              "      <td>25.0</td>\n",
              "      <td>20.0</td>\n",
              "      <td>17.0</td>\n",
              "      <td>18.0</td>\n",
              "    </tr>\n",
              "    <tr>\n",
              "      <th>1</th>\n",
              "      <td>2016-11-18</td>\n",
              "      <td>A</td>\n",
              "      <td>11:20:00</td>\n",
              "      <td>Engineering &amp; Project</td>\n",
              "      <td>Steel &amp; Mills</td>\n",
              "      <td>one small material fall freely from EOT</td>\n",
              "      <td>Near Miss</td>\n",
              "      <td>Workplace</td>\n",
              "      <td>Equipment Property Damage</td>\n",
              "      <td>Maintenance</td>\n",
              "      <td>Fall of Object</td>\n",
              "      <td>19.0</td>\n",
              "      <td>17.0</td>\n",
              "      <td>20.0</td>\n",
              "      <td>18.0</td>\n",
              "    </tr>\n",
              "    <tr>\n",
              "      <th>2</th>\n",
              "      <td>2016-11-18</td>\n",
              "      <td>C</td>\n",
              "      <td>22:00:00</td>\n",
              "      <td>Iron Making</td>\n",
              "      <td>Sinter Plant</td>\n",
              "      <td>During lifting of Feed drum by EOT crane ( 7.5...</td>\n",
              "      <td>Near Miss</td>\n",
              "      <td>Workplace</td>\n",
              "      <td>Equipment Property Damage</td>\n",
              "      <td>Maintenance</td>\n",
              "      <td>Fall from Height</td>\n",
              "      <td>15.0</td>\n",
              "      <td>10.0</td>\n",
              "      <td>10.0</td>\n",
              "      <td>15.0</td>\n",
              "    </tr>\n",
              "    <tr>\n",
              "      <th>3</th>\n",
              "      <td>2016-11-08</td>\n",
              "      <td>A</td>\n",
              "      <td>09:10:00</td>\n",
              "      <td>Jharia Division</td>\n",
              "      <td>Engineering Services, Jharia</td>\n",
              "      <td>During shifting m. s. angle from stock to work...</td>\n",
              "      <td>Near Miss</td>\n",
              "      <td>Workplace</td>\n",
              "      <td>Equipment Property Damage</td>\n",
              "      <td>Maintenance</td>\n",
              "      <td>Unsafe loading &amp; Unloading</td>\n",
              "      <td>20.0</td>\n",
              "      <td>23.0</td>\n",
              "      <td>25.0</td>\n",
              "      <td>34.0</td>\n",
              "    </tr>\n",
              "    <tr>\n",
              "      <th>4</th>\n",
              "      <td>2016-11-09</td>\n",
              "      <td>A</td>\n",
              "      <td>10:00:00</td>\n",
              "      <td>West Bokaro</td>\n",
              "      <td>Coal Beneficiation</td>\n",
              "      <td>some scrap material were accumulated in the ar...</td>\n",
              "      <td>Near Miss</td>\n",
              "      <td>Workplace</td>\n",
              "      <td>First Aid</td>\n",
              "      <td>Maintenance</td>\n",
              "      <td>Slip /trip /fall</td>\n",
              "      <td>10.0</td>\n",
              "      <td>24.0</td>\n",
              "      <td>23.0</td>\n",
              "      <td>17.0</td>\n",
              "    </tr>\n",
              "  </tbody>\n",
              "</table>\n",
              "</div>"
            ],
            "text/plain": [
              "        date Shift  ... Risk Type Injury Risk Type Reputation\n",
              "0 2016-11-22     A  ...             17.0                 18.0\n",
              "1 2016-11-18     A  ...             20.0                 18.0\n",
              "2 2016-11-18     C  ...             10.0                 15.0\n",
              "3 2016-11-08     A  ...             25.0                 34.0\n",
              "4 2016-11-09     A  ...             23.0                 17.0\n",
              "\n",
              "[5 rows x 15 columns]"
            ]
          },
          "metadata": {
            "tags": []
          },
          "execution_count": 3
        }
      ]
    },
    {
      "cell_type": "code",
      "metadata": {
        "id": "BMz7HnoAZ6TV",
        "outputId": "923525d9-ca6e-4c3e-e135-ece0e2521125",
        "colab": {
          "base_uri": "https://localhost:8080/",
          "height": 336
        }
      },
      "source": [
        "from sklearn.cluster import KMeans\n",
        "print(\"*****In the data set*****\")\n",
        "print(df.isna().sum())\n",
        "print(\"\\n\")\n"
      ],
      "execution_count": null,
      "outputs": [
        {
          "output_type": "stream",
          "text": [
            "*****In the data set*****\n",
            "date                      0\n",
            "Shift                     0\n",
            "Time                      0\n",
            "IO-Division               0\n",
            "IO-Department             0\n",
            "Brief Description         0\n",
            "Incident Category         0\n",
            "Incident Location         0\n",
            "Impact                    0\n",
            "Activity Type             0\n",
            "Prime Cause               0\n",
            "Risk Type Equipment      14\n",
            "Risk Type Environment    16\n",
            "Risk Type Injury         14\n",
            "Risk Type Reputation     14\n",
            "dtype: int64\n",
            "\n",
            "\n"
          ],
          "name": "stdout"
        }
      ]
    },
    {
      "cell_type": "code",
      "metadata": {
        "id": "UQkVhggCZ61Z",
        "outputId": "7afcd623-8433-4046-dda8-e765ebe93c8b",
        "colab": {
          "base_uri": "https://localhost:8080/",
          "height": 504
        }
      },
      "source": [
        "df.fillna(df.mean(), inplace=True)# filling empty places with mean value of the entire column values\n",
        "print(df.isna().sum())\n",
        "print(\"\\n\")# checking for any left over missing values in dataset\n",
        "print(df.describe())"
      ],
      "execution_count": null,
      "outputs": [
        {
          "output_type": "stream",
          "text": [
            "date                     0\n",
            "Shift                    0\n",
            "Time                     0\n",
            "IO-Division              0\n",
            "IO-Department            0\n",
            "Brief Description        0\n",
            "Incident Category        0\n",
            "Incident Location        0\n",
            "Impact                   0\n",
            "Activity Type            0\n",
            "Prime Cause              0\n",
            "Risk Type Equipment      0\n",
            "Risk Type Environment    0\n",
            "Risk Type Injury         0\n",
            "Risk Type Reputation     0\n",
            "dtype: int64\n",
            "\n",
            "\n",
            "       Risk Type Equipment   ...  Risk Type Reputation\n",
            "count            176.000000  ...            176.000000\n",
            "mean              19.648148  ...             17.524691\n",
            "std                4.165809  ...              2.395712\n",
            "min                4.000000  ...             15.000000\n",
            "25%               15.000000  ...             15.000000\n",
            "50%               19.000000  ...             18.000000\n",
            "75%               25.000000  ...             18.000000\n",
            "max               26.000000  ...             34.000000\n",
            "\n",
            "[8 rows x 4 columns]\n"
          ],
          "name": "stdout"
        }
      ]
    },
    {
      "cell_type": "code",
      "metadata": {
        "id": "4z8M_qfEZ686"
      },
      "source": [
        "#categorical variables:{Shift ,IO-Division,IO-Department,Brief Description,Incident Category,Incident Location,Impact,Activity Type,Prime Cause}\n",
        "#continuos Variables:{Risk Type Equipment,Risk Type Environment,Risk Type Injury,Risk Type Reputation}\n",
        "#Date_time Variables:{Date,Time}"
      ],
      "execution_count": null,
      "outputs": []
    },
    {
      "cell_type": "code",
      "metadata": {
        "id": "f6fTTKEnZ7D6",
        "outputId": "00168bcf-9fcc-49a8-b2e0-2e122f0e0403",
        "colab": {
          "base_uri": "https://localhost:8080/",
          "height": 190
        }
      },
      "source": [
        "import seaborn as sns\n",
        "df[[\"Shift\",\"Risk Type Injury\"]].groupby(['Shift'],as_index=False).mean().sort_values(by='Shift',ascending=True)"
      ],
      "execution_count": null,
      "outputs": [
        {
          "output_type": "stream",
          "text": [
            "/usr/local/lib/python3.6/dist-packages/statsmodels/tools/_testing.py:19: FutureWarning: pandas.util.testing is deprecated. Use the functions in the public API at pandas.testing instead.\n",
            "  import pandas.util.testing as tm\n"
          ],
          "name": "stderr"
        },
        {
          "output_type": "execute_result",
          "data": {
            "text/html": [
              "<div>\n",
              "<style scoped>\n",
              "    .dataframe tbody tr th:only-of-type {\n",
              "        vertical-align: middle;\n",
              "    }\n",
              "\n",
              "    .dataframe tbody tr th {\n",
              "        vertical-align: top;\n",
              "    }\n",
              "\n",
              "    .dataframe thead th {\n",
              "        text-align: right;\n",
              "    }\n",
              "</style>\n",
              "<table border=\"1\" class=\"dataframe\">\n",
              "  <thead>\n",
              "    <tr style=\"text-align: right;\">\n",
              "      <th></th>\n",
              "      <th>Shift</th>\n",
              "      <th>Risk Type Injury</th>\n",
              "    </tr>\n",
              "  </thead>\n",
              "  <tbody>\n",
              "    <tr>\n",
              "      <th>0</th>\n",
              "      <td>A</td>\n",
              "      <td>15.876599</td>\n",
              "    </tr>\n",
              "    <tr>\n",
              "      <th>1</th>\n",
              "      <td>B</td>\n",
              "      <td>16.570602</td>\n",
              "    </tr>\n",
              "    <tr>\n",
              "      <th>2</th>\n",
              "      <td>C</td>\n",
              "      <td>16.500000</td>\n",
              "    </tr>\n",
              "  </tbody>\n",
              "</table>\n",
              "</div>"
            ],
            "text/plain": [
              "  Shift  Risk Type Injury\n",
              "0     A         15.876599\n",
              "1     B         16.570602\n",
              "2     C         16.500000"
            ]
          },
          "metadata": {
            "tags": []
          },
          "execution_count": 7
        }
      ]
    },
    {
      "cell_type": "code",
      "metadata": {
        "id": "DgevFW5Ye43b",
        "outputId": "178cde45-5f1e-428e-934c-dfbe6a45f86e",
        "colab": {
          "base_uri": "https://localhost:8080/",
          "height": 284
        }
      },
      "source": [
        "df[[\"Prime Cause\",\"Risk Type Injury\"]].groupby(['Prime Cause'],as_index=False).mean().sort_values(by='Prime Cause',ascending=True)"
      ],
      "execution_count": null,
      "outputs": [
        {
          "output_type": "execute_result",
          "data": {
            "text/html": [
              "<div>\n",
              "<style scoped>\n",
              "    .dataframe tbody tr th:only-of-type {\n",
              "        vertical-align: middle;\n",
              "    }\n",
              "\n",
              "    .dataframe tbody tr th {\n",
              "        vertical-align: top;\n",
              "    }\n",
              "\n",
              "    .dataframe thead th {\n",
              "        text-align: right;\n",
              "    }\n",
              "</style>\n",
              "<table border=\"1\" class=\"dataframe\">\n",
              "  <thead>\n",
              "    <tr style=\"text-align: right;\">\n",
              "      <th></th>\n",
              "      <th>Prime Cause</th>\n",
              "      <th>Risk Type Injury</th>\n",
              "    </tr>\n",
              "  </thead>\n",
              "  <tbody>\n",
              "    <tr>\n",
              "      <th>0</th>\n",
              "      <td>Electrical fault</td>\n",
              "      <td>14.857143</td>\n",
              "    </tr>\n",
              "    <tr>\n",
              "      <th>1</th>\n",
              "      <td>Fall from Height</td>\n",
              "      <td>15.162963</td>\n",
              "    </tr>\n",
              "    <tr>\n",
              "      <th>2</th>\n",
              "      <td>Fall of Object</td>\n",
              "      <td>16.340535</td>\n",
              "    </tr>\n",
              "    <tr>\n",
              "      <th>3</th>\n",
              "      <td>Hit by Object</td>\n",
              "      <td>16.557568</td>\n",
              "    </tr>\n",
              "    <tr>\n",
              "      <th>4</th>\n",
              "      <td>Man-Machine Interface</td>\n",
              "      <td>16.019943</td>\n",
              "    </tr>\n",
              "    <tr>\n",
              "      <th>5</th>\n",
              "      <td>Side fall of material</td>\n",
              "      <td>14.521605</td>\n",
              "    </tr>\n",
              "    <tr>\n",
              "      <th>6</th>\n",
              "      <td>Slip /trip /fall</td>\n",
              "      <td>17.328704</td>\n",
              "    </tr>\n",
              "    <tr>\n",
              "      <th>7</th>\n",
              "      <td>Unsafe loading &amp; Unloading</td>\n",
              "      <td>15.906250</td>\n",
              "    </tr>\n",
              "  </tbody>\n",
              "</table>\n",
              "</div>"
            ],
            "text/plain": [
              "                  Prime Cause  Risk Type Injury\n",
              "0            Electrical fault         14.857143\n",
              "1            Fall from Height         15.162963\n",
              "2              Fall of Object         16.340535\n",
              "3               Hit by Object         16.557568\n",
              "4       Man-Machine Interface         16.019943\n",
              "5       Side fall of material         14.521605\n",
              "6            Slip /trip /fall         17.328704\n",
              "7  Unsafe loading & Unloading         15.906250"
            ]
          },
          "metadata": {
            "tags": []
          },
          "execution_count": 8
        }
      ]
    },
    {
      "cell_type": "code",
      "metadata": {
        "id": "ArFiuIMve40d",
        "outputId": "8ce35884-f4ed-4fc2-cc8d-5435316e747c",
        "colab": {
          "base_uri": "https://localhost:8080/",
          "height": 293
        }
      },
      "source": [
        "#here we have observed that risk type injury is almost similar for each shift (irrespective of the shifts)\n",
        "df.groupby('Shift')['Risk Type Injury'].mean().plot.bar()"
      ],
      "execution_count": null,
      "outputs": [
        {
          "output_type": "execute_result",
          "data": {
            "text/plain": [
              "<matplotlib.axes._subplots.AxesSubplot at 0x7fba3adcb9b0>"
            ]
          },
          "metadata": {
            "tags": []
          },
          "execution_count": 9
        },
        {
          "output_type": "display_data",
          "data": {
            "image/png": "[encoded data removed]",
            "text/plain": [
              "<Figure size 432x288 with 1 Axes>"
            ]
          },
          "metadata": {
            "tags": [],
            "needs_background": "light"
          }
        }
      ]
    },
    {
      "cell_type": "code",
      "metadata": {
        "id": "jL5neD0pZ65m",
        "outputId": "3776500f-ecb2-4a1f-a3cf-ada2a475811c",
        "colab": {
          "base_uri": "https://localhost:8080/",
          "height": 293
        }
      },
      "source": [
        "df.groupby('Shift')['Risk Type Reputation'].mean().plot.bar()"
      ],
      "execution_count": null,
      "outputs": [
        {
          "output_type": "execute_result",
          "data": {
            "text/plain": [
              "<matplotlib.axes._subplots.AxesSubplot at 0x7fba3ad184e0>"
            ]
          },
          "metadata": {
            "tags": []
          },
          "execution_count": 10
        },
        {
          "output_type": "display_data",
          "data": {
            "image/png": "[encoded data removed]",
            "text/plain": [
              "<Figure size 432x288 with 1 Axes>"
            ]
          },
          "metadata": {
            "tags": [],
            "needs_background": "light"
          }
        }
      ]
    },
    {
      "cell_type": "code",
      "metadata": {
        "id": "gFn7NUS5Z6zg",
        "outputId": "93e7c4ea-66bd-4a3e-ffb0-4e1d20a100eb",
        "colab": {
          "base_uri": "https://localhost:8080/",
          "height": 293
        }
      },
      "source": [
        "df.groupby('Shift')['Risk Type Environment'].mean().plot.bar()#all the three shifts have almost same level of risk type Environment"
      ],
      "execution_count": null,
      "outputs": [
        {
          "output_type": "execute_result",
          "data": {
            "text/plain": [
              "<matplotlib.axes._subplots.AxesSubplot at 0x7fba3a82b4a8>"
            ]
          },
          "metadata": {
            "tags": []
          },
          "execution_count": 11
        },
        {
          "output_type": "display_data",
          "data": {
            "image/png": "[encoded data removed]",
            "text/plain": [
              "<Figure size 432x288 with 1 Axes>"
            ]
          },
          "metadata": {
            "tags": [],
            "needs_background": "light"
          }
        }
      ]
    },
    {
      "cell_type": "code",
      "metadata": {
        "id": "cznMAu87YlQF",
        "outputId": "6ce39cc6-efeb-4047-d82e-2c1711deee37",
        "colab": {
          "base_uri": "https://localhost:8080/",
          "height": 397
        }
      },
      "source": [
        "df['Datetime']=pd.to_datetime(df['date'].astype(str) + ' ' + df['Time'].astype(str))\n",
        "df.head()"
      ],
      "execution_count": null,
      "outputs": [
        {
          "output_type": "execute_result",
          "data": {
            "text/html": [
              "<div>\n",
              "<style scoped>\n",
              "    .dataframe tbody tr th:only-of-type {\n",
              "        vertical-align: middle;\n",
              "    }\n",
              "\n",
              "    .dataframe tbody tr th {\n",
              "        vertical-align: top;\n",
              "    }\n",
              "\n",
              "    .dataframe thead th {\n",
              "        text-align: right;\n",
              "    }\n",
              "</style>\n",
              "<table border=\"1\" class=\"dataframe\">\n",
              "  <thead>\n",
              "    <tr style=\"text-align: right;\">\n",
              "      <th></th>\n",
              "      <th>date</th>\n",
              "      <th>Shift</th>\n",
              "      <th>Time</th>\n",
              "      <th>IO-Division</th>\n",
              "      <th>IO-Department</th>\n",
              "      <th>Brief Description</th>\n",
              "      <th>Incident Category</th>\n",
              "      <th>Incident Location</th>\n",
              "      <th>Impact</th>\n",
              "      <th>Activity Type</th>\n",
              "      <th>Prime Cause</th>\n",
              "      <th>Risk Type Equipment</th>\n",
              "      <th>Risk Type Environment</th>\n",
              "      <th>Risk Type Injury</th>\n",
              "      <th>Risk Type Reputation</th>\n",
              "      <th>Datetime</th>\n",
              "    </tr>\n",
              "  </thead>\n",
              "  <tbody>\n",
              "    <tr>\n",
              "      <th>0</th>\n",
              "      <td>2016-11-22</td>\n",
              "      <td>A</td>\n",
              "      <td>12:50:00</td>\n",
              "      <td>Engineering &amp; Project</td>\n",
              "      <td>Steel &amp; Mills</td>\n",
              "      <td>A slab of 17.1 T was supposed to be placed as ...</td>\n",
              "      <td>Near Miss</td>\n",
              "      <td>Workplace</td>\n",
              "      <td>First Aid</td>\n",
              "      <td>Construction Site</td>\n",
              "      <td>Fall from Height</td>\n",
              "      <td>25.0</td>\n",
              "      <td>20.0</td>\n",
              "      <td>17.0</td>\n",
              "      <td>18.0</td>\n",
              "      <td>2016-11-22 12:50:00</td>\n",
              "    </tr>\n",
              "    <tr>\n",
              "      <th>1</th>\n",
              "      <td>2016-11-18</td>\n",
              "      <td>A</td>\n",
              "      <td>11:20:00</td>\n",
              "      <td>Engineering &amp; Project</td>\n",
              "      <td>Steel &amp; Mills</td>\n",
              "      <td>one small material fall freely from EOT</td>\n",
              "      <td>Near Miss</td>\n",
              "      <td>Workplace</td>\n",
              "      <td>Equipment Property Damage</td>\n",
              "      <td>Maintenance</td>\n",
              "      <td>Fall of Object</td>\n",
              "      <td>19.0</td>\n",
              "      <td>17.0</td>\n",
              "      <td>20.0</td>\n",
              "      <td>18.0</td>\n",
              "      <td>2016-11-18 11:20:00</td>\n",
              "    </tr>\n",
              "    <tr>\n",
              "      <th>2</th>\n",
              "      <td>2016-11-18</td>\n",
              "      <td>C</td>\n",
              "      <td>22:00:00</td>\n",
              "      <td>Iron Making</td>\n",
              "      <td>Sinter Plant</td>\n",
              "      <td>During lifting of Feed drum by EOT crane ( 7.5...</td>\n",
              "      <td>Near Miss</td>\n",
              "      <td>Workplace</td>\n",
              "      <td>Equipment Property Damage</td>\n",
              "      <td>Maintenance</td>\n",
              "      <td>Fall from Height</td>\n",
              "      <td>15.0</td>\n",
              "      <td>10.0</td>\n",
              "      <td>10.0</td>\n",
              "      <td>15.0</td>\n",
              "      <td>2016-11-18 22:00:00</td>\n",
              "    </tr>\n",
              "    <tr>\n",
              "      <th>3</th>\n",
              "      <td>2016-11-08</td>\n",
              "      <td>A</td>\n",
              "      <td>09:10:00</td>\n",
              "      <td>Jharia Division</td>\n",
              "      <td>Engineering Services, Jharia</td>\n",
              "      <td>During shifting m. s. angle from stock to work...</td>\n",
              "      <td>Near Miss</td>\n",
              "      <td>Workplace</td>\n",
              "      <td>Equipment Property Damage</td>\n",
              "      <td>Maintenance</td>\n",
              "      <td>Unsafe loading &amp; Unloading</td>\n",
              "      <td>20.0</td>\n",
              "      <td>23.0</td>\n",
              "      <td>25.0</td>\n",
              "      <td>34.0</td>\n",
              "      <td>2016-11-08 09:10:00</td>\n",
              "    </tr>\n",
              "    <tr>\n",
              "      <th>4</th>\n",
              "      <td>2016-11-09</td>\n",
              "      <td>A</td>\n",
              "      <td>10:00:00</td>\n",
              "      <td>West Bokaro</td>\n",
              "      <td>Coal Beneficiation</td>\n",
              "      <td>some scrap material were accumulated in the ar...</td>\n",
              "      <td>Near Miss</td>\n",
              "      <td>Workplace</td>\n",
              "      <td>First Aid</td>\n",
              "      <td>Maintenance</td>\n",
              "      <td>Slip /trip /fall</td>\n",
              "      <td>10.0</td>\n",
              "      <td>24.0</td>\n",
              "      <td>23.0</td>\n",
              "      <td>17.0</td>\n",
              "      <td>2016-11-09 10:00:00</td>\n",
              "    </tr>\n",
              "  </tbody>\n",
              "</table>\n",
              "</div>"
            ],
            "text/plain": [
              "        date Shift  ... Risk Type Reputation            Datetime\n",
              "0 2016-11-22     A  ...                 18.0 2016-11-22 12:50:00\n",
              "1 2016-11-18     A  ...                 18.0 2016-11-18 11:20:00\n",
              "2 2016-11-18     C  ...                 15.0 2016-11-18 22:00:00\n",
              "3 2016-11-08     A  ...                 34.0 2016-11-08 09:10:00\n",
              "4 2016-11-09     A  ...                 17.0 2016-11-09 10:00:00\n",
              "\n",
              "[5 rows x 16 columns]"
            ]
          },
          "metadata": {
            "tags": []
          },
          "execution_count": 12
        }
      ]
    },
    {
      "cell_type": "code",
      "metadata": {
        "id": "LMHuFL1XVpcn",
        "outputId": "09ff482d-a1d3-4b34-8574-bb131f331c50",
        "colab": {
          "base_uri": "https://localhost:8080/",
          "height": 534
        }
      },
      "source": [
        "list_month=[]\n",
        "list_day=[]\n",
        "list_dayofweek=[]\n",
        "list_hour=[]\n",
        "for i in df['Datetime']:\n",
        "  list_month.append(i.month)\n",
        "  list_day.append(i.day)\n",
        "  list_dayofweek.append(i.dayofweek)\n",
        "for i in df['Time']:\n",
        "  list_hour.append(i.hour)\n",
        "\n",
        "  #df['month']=i.month\n",
        "  #df['day']=i.day\n",
        "#df.head()\n",
        "#df['month']\n",
        "#df.groupby('month')['Risk Type Reputation'].mean().plot.bar()\n",
        "montharr=np.asarray(list_month)\n",
        "dayarr=np.asarray(list_day)\n",
        "dowarr=np.asarray(list_dayofweek)\n",
        "hourarr=np.asarray(list_hour)\n",
        "df['month']=montharr\n",
        "df['day']=dayarr\n",
        "df['dayofweek']=dowarr\n",
        "df['hour']=hourarr\n",
        "df.head()"
      ],
      "execution_count": null,
      "outputs": [
        {
          "output_type": "execute_result",
          "data": {
            "text/html": [
              "<div>\n",
              "<style scoped>\n",
              "    .dataframe tbody tr th:only-of-type {\n",
              "        vertical-align: middle;\n",
              "    }\n",
              "\n",
              "    .dataframe tbody tr th {\n",
              "        vertical-align: top;\n",
              "    }\n",
              "\n",
              "    .dataframe thead th {\n",
              "        text-align: right;\n",
              "    }\n",
              "</style>\n",
              "<table border=\"1\" class=\"dataframe\">\n",
              "  <thead>\n",
              "    <tr style=\"text-align: right;\">\n",
              "      <th></th>\n",
              "      <th>date</th>\n",
              "      <th>Shift</th>\n",
              "      <th>Time</th>\n",
              "      <th>IO-Division</th>\n",
              "      <th>IO-Department</th>\n",
              "      <th>Brief Description</th>\n",
              "      <th>Incident Category</th>\n",
              "      <th>Incident Location</th>\n",
              "      <th>Impact</th>\n",
              "      <th>Activity Type</th>\n",
              "      <th>Prime Cause</th>\n",
              "      <th>Risk Type Equipment</th>\n",
              "      <th>Risk Type Environment</th>\n",
              "      <th>Risk Type Injury</th>\n",
              "      <th>Risk Type Reputation</th>\n",
              "      <th>Datetime</th>\n",
              "      <th>month</th>\n",
              "      <th>day</th>\n",
              "      <th>dayofweek</th>\n",
              "      <th>hour</th>\n",
              "    </tr>\n",
              "  </thead>\n",
              "  <tbody>\n",
              "    <tr>\n",
              "      <th>0</th>\n",
              "      <td>2016-11-22</td>\n",
              "      <td>A</td>\n",
              "      <td>12:50:00</td>\n",
              "      <td>Engineering &amp; Project</td>\n",
              "      <td>Steel &amp; Mills</td>\n",
              "      <td>A slab of 17.1 T was supposed to be placed as ...</td>\n",
              "      <td>Near Miss</td>\n",
              "      <td>Workplace</td>\n",
              "      <td>First Aid</td>\n",
              "      <td>Construction Site</td>\n",
              "      <td>Fall from Height</td>\n",
              "      <td>25.0</td>\n",
              "      <td>20.0</td>\n",
              "      <td>17.0</td>\n",
              "      <td>18.0</td>\n",
              "      <td>2016-11-22 12:50:00</td>\n",
              "      <td>11</td>\n",
              "      <td>22</td>\n",
              "      <td>1</td>\n",
              "      <td>12</td>\n",
              "    </tr>\n",
              "    <tr>\n",
              "      <th>1</th>\n",
              "      <td>2016-11-18</td>\n",
              "      <td>A</td>\n",
              "      <td>11:20:00</td>\n",
              "      <td>Engineering &amp; Project</td>\n",
              "      <td>Steel &amp; Mills</td>\n",
              "      <td>one small material fall freely from EOT</td>\n",
              "      <td>Near Miss</td>\n",
              "      <td>Workplace</td>\n",
              "      <td>Equipment Property Damage</td>\n",
              "      <td>Maintenance</td>\n",
              "      <td>Fall of Object</td>\n",
              "      <td>19.0</td>\n",
              "      <td>17.0</td>\n",
              "      <td>20.0</td>\n",
              "      <td>18.0</td>\n",
              "      <td>2016-11-18 11:20:00</td>\n",
              "      <td>11</td>\n",
              "      <td>18</td>\n",
              "      <td>4</td>\n",
              "      <td>11</td>\n",
              "    </tr>\n",
              "    <tr>\n",
              "      <th>2</th>\n",
              "      <td>2016-11-18</td>\n",
              "      <td>C</td>\n",
              "      <td>22:00:00</td>\n",
              "      <td>Iron Making</td>\n",
              "      <td>Sinter Plant</td>\n",
              "      <td>During lifting of Feed drum by EOT crane ( 7.5...</td>\n",
              "      <td>Near Miss</td>\n",
              "      <td>Workplace</td>\n",
              "      <td>Equipment Property Damage</td>\n",
              "      <td>Maintenance</td>\n",
              "      <td>Fall from Height</td>\n",
              "      <td>15.0</td>\n",
              "      <td>10.0</td>\n",
              "      <td>10.0</td>\n",
              "      <td>15.0</td>\n",
              "      <td>2016-11-18 22:00:00</td>\n",
              "      <td>11</td>\n",
              "      <td>18</td>\n",
              "      <td>4</td>\n",
              "      <td>22</td>\n",
              "    </tr>\n",
              "    <tr>\n",
              "      <th>3</th>\n",
              "      <td>2016-11-08</td>\n",
              "      <td>A</td>\n",
              "      <td>09:10:00</td>\n",
              "      <td>Jharia Division</td>\n",
              "      <td>Engineering Services, Jharia</td>\n",
              "      <td>During shifting m. s. angle from stock to work...</td>\n",
              "      <td>Near Miss</td>\n",
              "      <td>Workplace</td>\n",
              "      <td>Equipment Property Damage</td>\n",
              "      <td>Maintenance</td>\n",
              "      <td>Unsafe loading &amp; Unloading</td>\n",
              "      <td>20.0</td>\n",
              "      <td>23.0</td>\n",
              "      <td>25.0</td>\n",
              "      <td>34.0</td>\n",
              "      <td>2016-11-08 09:10:00</td>\n",
              "      <td>11</td>\n",
              "      <td>8</td>\n",
              "      <td>1</td>\n",
              "      <td>9</td>\n",
              "    </tr>\n",
              "    <tr>\n",
              "      <th>4</th>\n",
              "      <td>2016-11-09</td>\n",
              "      <td>A</td>\n",
              "      <td>10:00:00</td>\n",
              "      <td>West Bokaro</td>\n",
              "      <td>Coal Beneficiation</td>\n",
              "      <td>some scrap material were accumulated in the ar...</td>\n",
              "      <td>Near Miss</td>\n",
              "      <td>Workplace</td>\n",
              "      <td>First Aid</td>\n",
              "      <td>Maintenance</td>\n",
              "      <td>Slip /trip /fall</td>\n",
              "      <td>10.0</td>\n",
              "      <td>24.0</td>\n",
              "      <td>23.0</td>\n",
              "      <td>17.0</td>\n",
              "      <td>2016-11-09 10:00:00</td>\n",
              "      <td>11</td>\n",
              "      <td>9</td>\n",
              "      <td>2</td>\n",
              "      <td>10</td>\n",
              "    </tr>\n",
              "  </tbody>\n",
              "</table>\n",
              "</div>"
            ],
            "text/plain": [
              "        date Shift      Time  ... day dayofweek hour\n",
              "0 2016-11-22     A  12:50:00  ...  22         1   12\n",
              "1 2016-11-18     A  11:20:00  ...  18         4   11\n",
              "2 2016-11-18     C  22:00:00  ...  18         4   22\n",
              "3 2016-11-08     A  09:10:00  ...   8         1    9\n",
              "4 2016-11-09     A  10:00:00  ...   9         2   10\n",
              "\n",
              "[5 rows x 20 columns]"
            ]
          },
          "metadata": {
            "tags": []
          },
          "execution_count": 13
        }
      ]
    },
    {
      "cell_type": "code",
      "metadata": {
        "id": "rhoahSlqRTrT",
        "outputId": "0b1b25c8-68f8-4e59-8e26-f4550d51afcc",
        "colab": {
          "base_uri": "https://localhost:8080/",
          "height": 299
        }
      },
      "source": [
        "df.groupby('day')['Risk Type Environment'].mean().plot.bar()"
      ],
      "execution_count": null,
      "outputs": [
        {
          "output_type": "execute_result",
          "data": {
            "text/plain": [
              "<matplotlib.axes._subplots.AxesSubplot at 0x7fba3a79ef60>"
            ]
          },
          "metadata": {
            "tags": []
          },
          "execution_count": 14
        },
        {
          "output_type": "display_data",
          "data": {
            "image/png": "[encoded data removed]",
            "text/plain": [
              "<Figure size 432x288 with 1 Axes>"
            ]
          },
          "metadata": {
            "tags": [],
            "needs_background": "light"
          }
        }
      ]
    },
    {
      "cell_type": "code",
      "metadata": {
        "id": "1JUg8on19uyG",
        "outputId": "a618c60e-3cec-4786-c49c-2a6c7f8a8ff3",
        "colab": {
          "base_uri": "https://localhost:8080/",
          "height": 299
        }
      },
      "source": [
        "df.groupby('day')['Risk Type Injury'].mean().plot.bar()"
      ],
      "execution_count": null,
      "outputs": [
        {
          "output_type": "execute_result",
          "data": {
            "text/plain": [
              "<matplotlib.axes._subplots.AxesSubplot at 0x7fba3946ecc0>"
            ]
          },
          "metadata": {
            "tags": []
          },
          "execution_count": 15
        },
        {
          "output_type": "display_data",
          "data": {
            "image/png": "[encoded data removed]",
            "text/plain": [
              "<Figure size 432x288 with 1 Axes>"
            ]
          },
          "metadata": {
            "tags": [],
            "needs_background": "light"
          }
        }
      ]
    },
    {
      "cell_type": "code",
      "metadata": {
        "id": "WCRHukCT976Q",
        "outputId": "b0186cce-a98a-49af-e2e6-250dd28a126b",
        "colab": {
          "base_uri": "https://localhost:8080/",
          "height": 299
        }
      },
      "source": [
        "df.groupby('day')['Risk Type Reputation'].mean().plot.bar()"
      ],
      "execution_count": null,
      "outputs": [
        {
          "output_type": "execute_result",
          "data": {
            "text/plain": [
              "<matplotlib.axes._subplots.AxesSubplot at 0x7fba3a797630>"
            ]
          },
          "metadata": {
            "tags": []
          },
          "execution_count": 16
        },
        {
          "output_type": "display_data",
          "data": {
            "image/png": "[encoded data removed]",
            "text/plain": [
              "<Figure size 432x288 with 1 Axes>"
            ]
          },
          "metadata": {
            "tags": [],
            "needs_background": "light"
          }
        }
      ]
    },
    {
      "cell_type": "code",
      "metadata": {
        "id": "lCKZBUWURTyz",
        "outputId": "e5e5812b-8dbf-4c3a-8caf-ce01bf4de214",
        "colab": {
          "base_uri": "https://localhost:8080/",
          "height": 293
        }
      },
      "source": [
        "df.groupby('dayofweek')['Risk Type Environment'].mean().plot.bar()"
      ],
      "execution_count": null,
      "outputs": [
        {
          "output_type": "execute_result",
          "data": {
            "text/plain": [
              "<matplotlib.axes._subplots.AxesSubplot at 0x7fba39284588>"
            ]
          },
          "metadata": {
            "tags": []
          },
          "execution_count": 17
        },
        {
          "output_type": "display_data",
          "data": {
            "image/png": "[encoded data removed]",
            "text/plain": [
              "<Figure size 432x288 with 1 Axes>"
            ]
          },
          "metadata": {
            "tags": [],
            "needs_background": "light"
          }
        }
      ]
    },
    {
      "cell_type": "code",
      "metadata": {
        "id": "vaxa6LMy-ISg",
        "outputId": "3f971583-e495-4c7f-c879-0e9409b37876",
        "colab": {
          "base_uri": "https://localhost:8080/",
          "height": 293
        }
      },
      "source": [
        "df.groupby('dayofweek')['Risk Type Injury'].mean().plot.bar()"
      ],
      "execution_count": null,
      "outputs": [
        {
          "output_type": "execute_result",
          "data": {
            "text/plain": [
              "<matplotlib.axes._subplots.AxesSubplot at 0x7fba391cfeb8>"
            ]
          },
          "metadata": {
            "tags": []
          },
          "execution_count": 18
        },
        {
          "output_type": "display_data",
          "data": {
            "image/png": "[encoded data removed]",
            "text/plain": [
              "<Figure size 432x288 with 1 Axes>"
            ]
          },
          "metadata": {
            "tags": [],
            "needs_background": "light"
          }
        }
      ]
    },
    {
      "cell_type": "code",
      "metadata": {
        "id": "81z3VsAy-Pe1",
        "outputId": "29b08540-03fe-45b9-cb92-399512486549",
        "colab": {
          "base_uri": "https://localhost:8080/",
          "height": 293
        }
      },
      "source": [
        "df.groupby('dayofweek')['Risk Type Reputation'].mean().plot.bar()"
      ],
      "execution_count": null,
      "outputs": [
        {
          "output_type": "execute_result",
          "data": {
            "text/plain": [
              "<matplotlib.axes._subplots.AxesSubplot at 0x7fba391fc438>"
            ]
          },
          "metadata": {
            "tags": []
          },
          "execution_count": 19
        },
        {
          "output_type": "display_data",
          "data": {
            "image/png": "[encoded data removed]",
            "text/plain": [
              "<Figure size 432x288 with 1 Axes>"
            ]
          },
          "metadata": {
            "tags": [],
            "needs_background": "light"
          }
        }
      ]
    },
    {
      "cell_type": "code",
      "metadata": {
        "id": "-vYiFDFJRTu4",
        "outputId": "4ce886ba-a00c-4ad8-b0e5-191b4fab9fd0",
        "colab": {
          "base_uri": "https://localhost:8080/",
          "height": 299
        }
      },
      "source": [
        "df.groupby('month')['Risk Type Injury'].mean().plot.bar()"
      ],
      "execution_count": null,
      "outputs": [
        {
          "output_type": "execute_result",
          "data": {
            "text/plain": [
              "<matplotlib.axes._subplots.AxesSubplot at 0x7fba39146160>"
            ]
          },
          "metadata": {
            "tags": []
          },
          "execution_count": 20
        },
        {
          "output_type": "display_data",
          "data": {
            "image/png": "[encoded data removed]",
            "text/plain": [
              "<Figure size 432x288 with 1 Axes>"
            ]
          },
          "metadata": {
            "tags": [],
            "needs_background": "light"
          }
        }
      ]
    },
    {
      "cell_type": "code",
      "metadata": {
        "id": "nZLo_30G825q",
        "outputId": "aba4521a-db1b-4a89-ae81-5cbcc8cb9104",
        "colab": {
          "base_uri": "https://localhost:8080/",
          "height": 299
        }
      },
      "source": [
        "df.groupby('month')['Risk Type Reputation'].mean().plot.bar()"
      ],
      "execution_count": null,
      "outputs": [
        {
          "output_type": "execute_result",
          "data": {
            "text/plain": [
              "<matplotlib.axes._subplots.AxesSubplot at 0x7fba39461f28>"
            ]
          },
          "metadata": {
            "tags": []
          },
          "execution_count": 21
        },
        {
          "output_type": "display_data",
          "data": {
            "image/png": "[encoded data removed]",
            "text/plain": [
              "<Figure size 432x288 with 1 Axes>"
            ]
          },
          "metadata": {
            "tags": [],
            "needs_background": "light"
          }
        }
      ]
    },
    {
      "cell_type": "code",
      "metadata": {
        "id": "lTaCUMVU9Ajr",
        "outputId": "7fa6a0bd-2294-4bb6-eb25-8d7bb8fef5cd",
        "colab": {
          "base_uri": "https://localhost:8080/",
          "height": 299
        }
      },
      "source": [
        "df.groupby('month')['Risk Type Environment'].mean().plot.bar()"
      ],
      "execution_count": null,
      "outputs": [
        {
          "output_type": "execute_result",
          "data": {
            "text/plain": [
              "<matplotlib.axes._subplots.AxesSubplot at 0x7fba392f6438>"
            ]
          },
          "metadata": {
            "tags": []
          },
          "execution_count": 22
        },
        {
          "output_type": "display_data",
          "data": {
            "image/png": "[encoded data removed]",
            "text/plain": [
              "<Figure size 432x288 with 1 Axes>"
            ]
          },
          "metadata": {
            "tags": [],
            "needs_background": "light"
          }
        }
      ]
    },
    {
      "cell_type": "code",
      "metadata": {
        "id": "q_MeDPs0e6DV"
      },
      "source": [
        "#By observing the dataset we can determine that date,Incident category,Incident location(uniform throughout the data) doesnt contribute to the dependent quantity\n",
        "#df=df.drop(labels={\"Date (DD-MM-YYYY)\",\"Time\",\"Brief Description\",\"Shift\",\"Impact\",\"Activity Type\",\"Incident Category\",\"Incident Location\",\"IO-Division\",\"IO-Department\",\"Prime Cause\"},axis=1)\n",
        "#df.head()"
      ],
      "execution_count": null,
      "outputs": []
    },
    {
      "cell_type": "code",
      "metadata": {
        "id": "sceh6NceT9k6",
        "outputId": "09f698d6-14a6-4b16-f1b5-651b2873a706",
        "colab": {
          "base_uri": "https://localhost:8080/",
          "height": 299
        }
      },
      "source": [
        "df.groupby('hour')['Risk Type Environment'].mean().plot.bar()"
      ],
      "execution_count": null,
      "outputs": [
        {
          "output_type": "execute_result",
          "data": {
            "text/plain": [
              "<matplotlib.axes._subplots.AxesSubplot at 0x7fba38f926d8>"
            ]
          },
          "metadata": {
            "tags": []
          },
          "execution_count": 23
        },
        {
          "output_type": "display_data",
          "data": {
            "image/png": "[encoded data removed]",
            "text/plain": [
              "<Figure size 432x288 with 1 Axes>"
            ]
          },
          "metadata": {
            "tags": [],
            "needs_background": "light"
          }
        }
      ]
    },
    {
      "cell_type": "code",
      "metadata": {
        "id": "N4rw4WY0T9ry",
        "outputId": "4bf0eca4-8310-444e-a310-478a516e9d3c",
        "colab": {
          "base_uri": "https://localhost:8080/",
          "height": 299
        }
      },
      "source": [
        "df.groupby('hour')['Risk Type Injury'].mean().plot.bar()"
      ],
      "execution_count": null,
      "outputs": [
        {
          "output_type": "execute_result",
          "data": {
            "text/plain": [
              "<matplotlib.axes._subplots.AxesSubplot at 0x7fba38eef9e8>"
            ]
          },
          "metadata": {
            "tags": []
          },
          "execution_count": 24
        },
        {
          "output_type": "display_data",
          "data": {
            "image/png": "[encoded data removed]",
            "text/plain": [
              "<Figure size 432x288 with 1 Axes>"
            ]
          },
          "metadata": {
            "tags": [],
            "needs_background": "light"
          }
        }
      ]
    },
    {
      "cell_type": "code",
      "metadata": {
        "id": "S4sBKSCiT9yL",
        "outputId": "5e3275cd-cc33-4a50-bf22-fea7bedc558b",
        "colab": {
          "base_uri": "https://localhost:8080/",
          "height": 299
        }
      },
      "source": [
        "df.groupby('hour')['Risk Type Reputation'].mean().plot.bar()"
      ],
      "execution_count": null,
      "outputs": [
        {
          "output_type": "execute_result",
          "data": {
            "text/plain": [
              "<matplotlib.axes._subplots.AxesSubplot at 0x7fba38eb6d30>"
            ]
          },
          "metadata": {
            "tags": []
          },
          "execution_count": 25
        },
        {
          "output_type": "display_data",
          "data": {
            "image/png": "[encoded data removed]",
            "text/plain": [
              "<Figure size 432x288 with 1 Axes>"
            ]
          },
          "metadata": {
            "tags": [],
            "needs_background": "light"
          }
        }
      ]
    },
    {
      "cell_type": "code",
      "metadata": {
        "id": "lxTZRxFwXSLM",
        "outputId": "347a0d06-ac8b-499f-9f66-ff11051f222b",
        "colab": {
          "base_uri": "https://localhost:8080/",
          "height": 1000
        }
      },
      "source": [
        "print(pd.crosstab(df[\"Risk Type Injury\"],df[\"Impact\"], margins = True).plot.bar())\n",
        "print(pd.crosstab(df[\"Risk Type Injury\"],df[\"Shift\"], margins = True).plot.bar())\n",
        "print(pd.crosstab(df[\"Risk Type Injury\"],df[\"Incident Category\"], margins = True).plot.bar())\n",
        "print(pd.crosstab(df[\"Risk Type Injury\"],df[\"Incident Location\"], margins = True).plot.bar())\n",
        "print(pd.crosstab(df[\"Risk Type Injury\"],df[\"Activity Type\"], margins = True).plot.bar())\n",
        "print(pd.crosstab(df[\"Risk Type Injury\"],df[\"Prime Cause\"], margins = True).plot.bar())\n",
        "print(pd.crosstab(df[\"Risk Type Injury\"],df[\"IO-Division\"], margins = True).plot.bar())\n",
        "print(pd.crosstab(df[\"Risk Type Injury\"],df[\"IO-Division\"], margins = True).plot.bar())\n",
        "print(pd.crosstab(df[\"Risk Type Injury\"],df[\"month\"], margins = True).plot.bar())\n",
        "print(pd.crosstab(df[\"Risk Type Injury\"],df[\"day\"], margins = True).plot.bar())\n",
        "print(pd.crosstab(df[\"Risk Type Injury\"],df[\"dayofweek\"], margins = True).plot.bar())\n",
        "print(pd.crosstab(df[\"Risk Type Injury\"],df[\"hour\"], margins = True).plot.bar())\n",
        "print(df.columns)"
      ],
      "execution_count": null,
      "outputs": [
        {
          "output_type": "stream",
          "text": [
            "AxesSubplot(0.125,0.125;0.775x0.755)\n",
            "AxesSubplot(0.125,0.125;0.775x0.755)\n",
            "AxesSubplot(0.125,0.125;0.775x0.755)\n",
            "AxesSubplot(0.125,0.125;0.775x0.755)\n",
            "AxesSubplot(0.125,0.125;0.775x0.755)\n",
            "AxesSubplot(0.125,0.125;0.775x0.755)\n",
            "AxesSubplot(0.125,0.125;0.775x0.755)\n",
            "AxesSubplot(0.125,0.125;0.775x0.755)\n",
            "AxesSubplot(0.125,0.125;0.775x0.755)\n",
            "AxesSubplot(0.125,0.125;0.775x0.755)\n",
            "AxesSubplot(0.125,0.125;0.775x0.755)\n",
            "AxesSubplot(0.125,0.125;0.775x0.755)\n",
            "Index(['date', 'Shift', 'Time', 'IO-Division', 'IO-Department',\n",
            "       'Brief Description', 'Incident Category', 'Incident Location', 'Impact',\n",
            "       'Activity Type', 'Prime Cause', 'Risk Type Equipment ',\n",
            "       'Risk Type Environment', 'Risk Type Injury', 'Risk Type Reputation',\n",
            "       'Datetime', 'month', 'day', 'dayofweek', 'hour'],\n",
            "      dtype='object')\n"
          ],
          "name": "stdout"
        },
        {
          "output_type": "display_data",
          "data": {
            "image/png": "[encoded data removed]",
            "text/plain": [
              "<Figure size 432x288 with 1 Axes>"
            ]
          },
          "metadata": {
            "tags": [],
            "needs_background": "light"
          }
        },
        {
          "output_type": "display_data",
          "data": {
            "image/png": "[encoded data removed]",
            "text/plain": [
              "<Figure size 432x288 with 1 Axes>"
            ]
          },
          "metadata": {
            "tags": [],
            "needs_background": "light"
          }
        },
        {
          "output_type": "display_data",
          "data": {
            "image/png": "[encoded data removed]",
            "text/plain": [
              "<Figure size 432x288 with 1 Axes>"
            ]
          },
          "metadata": {
            "tags": [],
            "needs_background": "light"
          }
        },
        {
          "output_type": "display_data",
          "data": {
            "image/png": "[encoded data removed]",
            "text/plain": [
              "<Figure size 432x288 with 1 Axes>"
            ]
          },
          "metadata": {
            "tags": [],
            "needs_background": "light"
          }
        },
        {
          "output_type": "display_data",
          "data": {
            "image/png": "[encoded data removed]",
            "text/plain": [
              "<Figure size 432x288 with 1 Axes>"
            ]
          },
          "metadata": {
            "tags": [],
            "needs_background": "light"
          }
        },
        {
          "output_type": "display_data",
          "data": {
            "image/png": "[encoded data removed]",
            "text/plain": [
              "<Figure size 432x288 with 1 Axes>"
            ]
          },
          "metadata": {
            "tags": [],
            "needs_background": "light"
          }
        },
        {
          "output_type": "display_data",
          "data": {
            "image/png": "[encoded data removed]",
            "text/plain": [
              "<Figure size 432x288 with 1 Axes>"
            ]
          },
          "metadata": {
            "tags": [],
            "needs_background": "light"
          }
        },
        {
          "output_type": "display_data",
          "data": {
            "image/png": "[encoded data removed]",
            "text/plain": [
              "<Figure size 432x288 with 1 Axes>"
            ]
          },
          "metadata": {
            "tags": [],
            "needs_background": "light"
          }
        },
        {
          "output_type": "display_data",
          "data": {
            "image/png": "[encoded data removed]",
            "text/plain": [
              "<Figure size 432x288 with 1 Axes>"
            ]
          },
          "metadata": {
            "tags": [],
            "needs_background": "light"
          }
        },
        {
          "output_type": "display_data",
          "data": {
            "image/png": "[encoded data removed]",
            "text/plain": [
              "<Figure size 432x288 with 1 Axes>"
            ]
          },
          "metadata": {
            "tags": [],
            "needs_background": "light"
          }
        },
        {
          "output_type": "display_data",
          "data": {
            "image/png": "[encoded data removed]",
            "text/plain": [
              "<Figure size 432x288 with 1 Axes>"
            ]
          },
          "metadata": {
            "tags": [],
            "needs_background": "light"
          }
        },
        {
          "output_type": "display_data",
          "data": {
            "image/png": "[encoded data removed]",
            "text/plain": [
              "<Figure size 432x288 with 1 Axes>"
            ]
          },
          "metadata": {
            "tags": [],
            "needs_background": "light"
          }
        }
      ]
    },
    {
      "cell_type": "code",
      "metadata": {
        "id": "dXoyglNmT9qR",
        "outputId": "fc53a4e8-6012-4157-e39e-b3d30af33f4d",
        "colab": {
          "base_uri": "https://localhost:8080/",
          "height": 491
        }
      },
      "source": [
        "df[[\"IO-Division\",\"Risk Type Injury\"]].groupby(['IO-Division'],as_index=False).mean().sort_values(by='IO-Division',ascending=True)"
      ],
      "execution_count": null,
      "outputs": [
        {
          "output_type": "execute_result",
          "data": {
            "text/html": [
              "<div>\n",
              "<style scoped>\n",
              "    .dataframe tbody tr th:only-of-type {\n",
              "        vertical-align: middle;\n",
              "    }\n",
              "\n",
              "    .dataframe tbody tr th {\n",
              "        vertical-align: top;\n",
              "    }\n",
              "\n",
              "    .dataframe thead th {\n",
              "        text-align: right;\n",
              "    }\n",
              "</style>\n",
              "<table border=\"1\" class=\"dataframe\">\n",
              "  <thead>\n",
              "    <tr style=\"text-align: right;\">\n",
              "      <th></th>\n",
              "      <th>IO-Division</th>\n",
              "      <th>Risk Type Injury</th>\n",
              "    </tr>\n",
              "  </thead>\n",
              "  <tbody>\n",
              "    <tr>\n",
              "      <th>0</th>\n",
              "      <td>Engineering &amp; Project</td>\n",
              "      <td>15.712963</td>\n",
              "    </tr>\n",
              "    <tr>\n",
              "      <th>1</th>\n",
              "      <td>FAM</td>\n",
              "      <td>16.484127</td>\n",
              "    </tr>\n",
              "    <tr>\n",
              "      <th>2</th>\n",
              "      <td>IBMD</td>\n",
              "      <td>10.282407</td>\n",
              "    </tr>\n",
              "    <tr>\n",
              "      <th>3</th>\n",
              "      <td>Iron Making</td>\n",
              "      <td>16.200000</td>\n",
              "    </tr>\n",
              "    <tr>\n",
              "      <th>4</th>\n",
              "      <td>Jharia Division</td>\n",
              "      <td>15.723545</td>\n",
              "    </tr>\n",
              "    <tr>\n",
              "      <th>5</th>\n",
              "      <td>KPO</td>\n",
              "      <td>16.000000</td>\n",
              "    </tr>\n",
              "    <tr>\n",
              "      <th>6</th>\n",
              "      <td>KPO Engg &amp; Projects And TGS</td>\n",
              "      <td>17.800000</td>\n",
              "    </tr>\n",
              "    <tr>\n",
              "      <th>7</th>\n",
              "      <td>KPO OPERATIONS AND MAINTENANCE NEW WITH EFFECT...</td>\n",
              "      <td>15.000000</td>\n",
              "    </tr>\n",
              "    <tr>\n",
              "      <th>8</th>\n",
              "      <td>O M &amp; Q</td>\n",
              "      <td>18.000000</td>\n",
              "    </tr>\n",
              "    <tr>\n",
              "      <th>9</th>\n",
              "      <td>Shared Services</td>\n",
              "      <td>16.925185</td>\n",
              "    </tr>\n",
              "    <tr>\n",
              "      <th>10</th>\n",
              "      <td>Steel Manufacturing</td>\n",
              "      <td>15.246747</td>\n",
              "    </tr>\n",
              "    <tr>\n",
              "      <th>11</th>\n",
              "      <td>Tata Steel</td>\n",
              "      <td>16.000000</td>\n",
              "    </tr>\n",
              "    <tr>\n",
              "      <th>12</th>\n",
              "      <td>Tubes Division</td>\n",
              "      <td>16.414530</td>\n",
              "    </tr>\n",
              "    <tr>\n",
              "      <th>13</th>\n",
              "      <td>West Bokaro</td>\n",
              "      <td>17.059454</td>\n",
              "    </tr>\n",
              "    <tr>\n",
              "      <th>14</th>\n",
              "      <td>Wire Division</td>\n",
              "      <td>17.011785</td>\n",
              "    </tr>\n",
              "  </tbody>\n",
              "</table>\n",
              "</div>"
            ],
            "text/plain": [
              "                                          IO-Division  Risk Type Injury\n",
              "0                               Engineering & Project         15.712963\n",
              "1                                                 FAM         16.484127\n",
              "2                                                IBMD         10.282407\n",
              "3                                         Iron Making         16.200000\n",
              "4                                     Jharia Division         15.723545\n",
              "5                                                 KPO         16.000000\n",
              "6                         KPO Engg & Projects And TGS         17.800000\n",
              "7   KPO OPERATIONS AND MAINTENANCE NEW WITH EFFECT...         15.000000\n",
              "8                                             O M & Q         18.000000\n",
              "9                                     Shared Services         16.925185\n",
              "10                                Steel Manufacturing         15.246747\n",
              "11                                         Tata Steel         16.000000\n",
              "12                                     Tubes Division         16.414530\n",
              "13                                        West Bokaro         17.059454\n",
              "14                                      Wire Division         17.011785"
            ]
          },
          "metadata": {
            "tags": []
          },
          "execution_count": 27
        }
      ]
    },
    {
      "cell_type": "code",
      "metadata": {
        "id": "Ip9bDgcmiPzM",
        "outputId": "66a1a283-4f3c-4b9d-f63d-1fd28f1d389a",
        "colab": {
          "base_uri": "https://localhost:8080/",
          "height": 491
        }
      },
      "source": [
        "df[[\"IO-Division\",\"Risk Type Environment\"]].groupby(['IO-Division'],as_index=False).mean().sort_values(by='IO-Division',ascending=True)"
      ],
      "execution_count": null,
      "outputs": [
        {
          "output_type": "execute_result",
          "data": {
            "text/html": [
              "<div>\n",
              "<style scoped>\n",
              "    .dataframe tbody tr th:only-of-type {\n",
              "        vertical-align: middle;\n",
              "    }\n",
              "\n",
              "    .dataframe tbody tr th {\n",
              "        vertical-align: top;\n",
              "    }\n",
              "\n",
              "    .dataframe thead th {\n",
              "        text-align: right;\n",
              "    }\n",
              "</style>\n",
              "<table border=\"1\" class=\"dataframe\">\n",
              "  <thead>\n",
              "    <tr style=\"text-align: right;\">\n",
              "      <th></th>\n",
              "      <th>IO-Division</th>\n",
              "      <th>Risk Type Environment</th>\n",
              "    </tr>\n",
              "  </thead>\n",
              "  <tbody>\n",
              "    <tr>\n",
              "      <th>0</th>\n",
              "      <td>Engineering &amp; Project</td>\n",
              "      <td>15.728125</td>\n",
              "    </tr>\n",
              "    <tr>\n",
              "      <th>1</th>\n",
              "      <td>FAM</td>\n",
              "      <td>16.120536</td>\n",
              "    </tr>\n",
              "    <tr>\n",
              "      <th>2</th>\n",
              "      <td>IBMD</td>\n",
              "      <td>13.820312</td>\n",
              "    </tr>\n",
              "    <tr>\n",
              "      <th>3</th>\n",
              "      <td>Iron Making</td>\n",
              "      <td>17.400000</td>\n",
              "    </tr>\n",
              "    <tr>\n",
              "      <th>4</th>\n",
              "      <td>Jharia Division</td>\n",
              "      <td>15.377232</td>\n",
              "    </tr>\n",
              "    <tr>\n",
              "      <th>5</th>\n",
              "      <td>KPO</td>\n",
              "      <td>16.750000</td>\n",
              "    </tr>\n",
              "    <tr>\n",
              "      <th>6</th>\n",
              "      <td>KPO Engg &amp; Projects And TGS</td>\n",
              "      <td>15.800000</td>\n",
              "    </tr>\n",
              "    <tr>\n",
              "      <th>7</th>\n",
              "      <td>KPO OPERATIONS AND MAINTENANCE NEW WITH EFFECT...</td>\n",
              "      <td>21.000000</td>\n",
              "    </tr>\n",
              "    <tr>\n",
              "      <th>8</th>\n",
              "      <td>O M &amp; Q</td>\n",
              "      <td>16.333333</td>\n",
              "    </tr>\n",
              "    <tr>\n",
              "      <th>9</th>\n",
              "      <td>Shared Services</td>\n",
              "      <td>17.171250</td>\n",
              "    </tr>\n",
              "    <tr>\n",
              "      <th>10</th>\n",
              "      <td>Steel Manufacturing</td>\n",
              "      <td>15.934122</td>\n",
              "    </tr>\n",
              "    <tr>\n",
              "      <th>11</th>\n",
              "      <td>Tata Steel</td>\n",
              "      <td>16.750000</td>\n",
              "    </tr>\n",
              "    <tr>\n",
              "      <th>12</th>\n",
              "      <td>Tubes Division</td>\n",
              "      <td>16.911058</td>\n",
              "    </tr>\n",
              "    <tr>\n",
              "      <th>13</th>\n",
              "      <td>West Bokaro</td>\n",
              "      <td>16.187500</td>\n",
              "    </tr>\n",
              "    <tr>\n",
              "      <th>14</th>\n",
              "      <td>Wire Division</td>\n",
              "      <td>16.480114</td>\n",
              "    </tr>\n",
              "  </tbody>\n",
              "</table>\n",
              "</div>"
            ],
            "text/plain": [
              "                                          IO-Division  Risk Type Environment\n",
              "0                               Engineering & Project              15.728125\n",
              "1                                                 FAM              16.120536\n",
              "2                                                IBMD              13.820312\n",
              "3                                         Iron Making              17.400000\n",
              "4                                     Jharia Division              15.377232\n",
              "5                                                 KPO              16.750000\n",
              "6                         KPO Engg & Projects And TGS              15.800000\n",
              "7   KPO OPERATIONS AND MAINTENANCE NEW WITH EFFECT...              21.000000\n",
              "8                                             O M & Q              16.333333\n",
              "9                                     Shared Services              17.171250\n",
              "10                                Steel Manufacturing              15.934122\n",
              "11                                         Tata Steel              16.750000\n",
              "12                                     Tubes Division              16.911058\n",
              "13                                        West Bokaro              16.187500\n",
              "14                                      Wire Division              16.480114"
            ]
          },
          "metadata": {
            "tags": []
          },
          "execution_count": 28
        }
      ]
    },
    {
      "cell_type": "code",
      "metadata": {
        "id": "xJoAH1tZiP9t",
        "outputId": "c99fbb13-f802-4da6-9bdf-4162ab636e57",
        "colab": {
          "base_uri": "https://localhost:8080/",
          "height": 491
        }
      },
      "source": [
        "df[[\"IO-Division\",\"Risk Type Reputation\"]].groupby(['IO-Division'],as_index=False).mean().sort_values(by='IO-Division',ascending=True)"
      ],
      "execution_count": null,
      "outputs": [
        {
          "output_type": "execute_result",
          "data": {
            "text/html": [
              "<div>\n",
              "<style scoped>\n",
              "    .dataframe tbody tr th:only-of-type {\n",
              "        vertical-align: middle;\n",
              "    }\n",
              "\n",
              "    .dataframe tbody tr th {\n",
              "        vertical-align: top;\n",
              "    }\n",
              "\n",
              "    .dataframe thead th {\n",
              "        text-align: right;\n",
              "    }\n",
              "</style>\n",
              "<table border=\"1\" class=\"dataframe\">\n",
              "  <thead>\n",
              "    <tr style=\"text-align: right;\">\n",
              "      <th></th>\n",
              "      <th>IO-Division</th>\n",
              "      <th>Risk Type Reputation</th>\n",
              "    </tr>\n",
              "  </thead>\n",
              "  <tbody>\n",
              "    <tr>\n",
              "      <th>0</th>\n",
              "      <td>Engineering &amp; Project</td>\n",
              "      <td>17.052469</td>\n",
              "    </tr>\n",
              "    <tr>\n",
              "      <th>1</th>\n",
              "      <td>FAM</td>\n",
              "      <td>17.007055</td>\n",
              "    </tr>\n",
              "    <tr>\n",
              "      <th>2</th>\n",
              "      <td>IBMD</td>\n",
              "      <td>18.500000</td>\n",
              "    </tr>\n",
              "    <tr>\n",
              "      <th>3</th>\n",
              "      <td>Iron Making</td>\n",
              "      <td>17.400000</td>\n",
              "    </tr>\n",
              "    <tr>\n",
              "      <th>4</th>\n",
              "      <td>Jharia Division</td>\n",
              "      <td>18.323192</td>\n",
              "    </tr>\n",
              "    <tr>\n",
              "      <th>5</th>\n",
              "      <td>KPO</td>\n",
              "      <td>17.250000</td>\n",
              "    </tr>\n",
              "    <tr>\n",
              "      <th>6</th>\n",
              "      <td>KPO Engg &amp; Projects And TGS</td>\n",
              "      <td>16.800000</td>\n",
              "    </tr>\n",
              "    <tr>\n",
              "      <th>7</th>\n",
              "      <td>KPO OPERATIONS AND MAINTENANCE NEW WITH EFFECT...</td>\n",
              "      <td>20.000000</td>\n",
              "    </tr>\n",
              "    <tr>\n",
              "      <th>8</th>\n",
              "      <td>O M &amp; Q</td>\n",
              "      <td>18.166667</td>\n",
              "    </tr>\n",
              "    <tr>\n",
              "      <th>9</th>\n",
              "      <td>Shared Services</td>\n",
              "      <td>18.100988</td>\n",
              "    </tr>\n",
              "    <tr>\n",
              "      <th>10</th>\n",
              "      <td>Steel Manufacturing</td>\n",
              "      <td>17.190524</td>\n",
              "    </tr>\n",
              "    <tr>\n",
              "      <th>11</th>\n",
              "      <td>Tata Steel</td>\n",
              "      <td>17.250000</td>\n",
              "    </tr>\n",
              "    <tr>\n",
              "      <th>12</th>\n",
              "      <td>Tubes Division</td>\n",
              "      <td>17.428775</td>\n",
              "    </tr>\n",
              "    <tr>\n",
              "      <th>13</th>\n",
              "      <td>West Bokaro</td>\n",
              "      <td>17.318389</td>\n",
              "    </tr>\n",
              "    <tr>\n",
              "      <th>14</th>\n",
              "      <td>Wire Division</td>\n",
              "      <td>17.411336</td>\n",
              "    </tr>\n",
              "  </tbody>\n",
              "</table>\n",
              "</div>"
            ],
            "text/plain": [
              "                                          IO-Division  Risk Type Reputation\n",
              "0                               Engineering & Project             17.052469\n",
              "1                                                 FAM             17.007055\n",
              "2                                                IBMD             18.500000\n",
              "3                                         Iron Making             17.400000\n",
              "4                                     Jharia Division             18.323192\n",
              "5                                                 KPO             17.250000\n",
              "6                         KPO Engg & Projects And TGS             16.800000\n",
              "7   KPO OPERATIONS AND MAINTENANCE NEW WITH EFFECT...             20.000000\n",
              "8                                             O M & Q             18.166667\n",
              "9                                     Shared Services             18.100988\n",
              "10                                Steel Manufacturing             17.190524\n",
              "11                                         Tata Steel             17.250000\n",
              "12                                     Tubes Division             17.428775\n",
              "13                                        West Bokaro             17.318389\n",
              "14                                      Wire Division             17.411336"
            ]
          },
          "metadata": {
            "tags": []
          },
          "execution_count": 29
        }
      ]
    },
    {
      "cell_type": "code",
      "metadata": {
        "id": "X4ZlYivHiQLo",
        "outputId": "bedcedff-5153-4049-a16f-8744555ddf97",
        "colab": {
          "base_uri": "https://localhost:8080/",
          "height": 635
        }
      },
      "source": [
        "df.groupby('IO-Division')['Risk Type Reputation'].mean().plot.bar()"
      ],
      "execution_count": null,
      "outputs": [
        {
          "output_type": "execute_result",
          "data": {
            "text/plain": [
              "<matplotlib.axes._subplots.AxesSubplot at 0x7fba38e19550>"
            ]
          },
          "metadata": {
            "tags": []
          },
          "execution_count": 30
        },
        {
          "output_type": "display_data",
          "data": {
            "image/png": "[encoded data removed]",
            "text/plain": [
              "<Figure size 432x288 with 1 Axes>"
            ]
          },
          "metadata": {
            "tags": [],
            "needs_background": "light"
          }
        }
      ]
    },
    {
      "cell_type": "code",
      "metadata": {
        "id": "eVLsnOcEiQRU",
        "outputId": "3766b9b1-e2ae-4299-cefd-e95966b9231d",
        "colab": {
          "base_uri": "https://localhost:8080/",
          "height": 166
        }
      },
      "source": [
        "df[[\"Impact\",\"Risk Type Reputation\"]].groupby(['Impact'],as_index=False).mean().sort_values(by='Impact',ascending=True)"
      ],
      "execution_count": null,
      "outputs": [
        {
          "output_type": "execute_result",
          "data": {
            "text/html": [
              "<div>\n",
              "<style scoped>\n",
              "    .dataframe tbody tr th:only-of-type {\n",
              "        vertical-align: middle;\n",
              "    }\n",
              "\n",
              "    .dataframe tbody tr th {\n",
              "        vertical-align: top;\n",
              "    }\n",
              "\n",
              "    .dataframe thead th {\n",
              "        text-align: right;\n",
              "    }\n",
              "</style>\n",
              "<table border=\"1\" class=\"dataframe\">\n",
              "  <thead>\n",
              "    <tr style=\"text-align: right;\">\n",
              "      <th></th>\n",
              "      <th>Impact</th>\n",
              "      <th>Risk Type Reputation</th>\n",
              "    </tr>\n",
              "  </thead>\n",
              "  <tbody>\n",
              "    <tr>\n",
              "      <th>0</th>\n",
              "      <td>Equipment Property Damage</td>\n",
              "      <td>17.808410</td>\n",
              "    </tr>\n",
              "    <tr>\n",
              "      <th>1</th>\n",
              "      <td>Fatality</td>\n",
              "      <td>17.000000</td>\n",
              "    </tr>\n",
              "    <tr>\n",
              "      <th>2</th>\n",
              "      <td>First Aid</td>\n",
              "      <td>17.258659</td>\n",
              "    </tr>\n",
              "    <tr>\n",
              "      <th>3</th>\n",
              "      <td>LTI</td>\n",
              "      <td>17.430923</td>\n",
              "    </tr>\n",
              "  </tbody>\n",
              "</table>\n",
              "</div>"
            ],
            "text/plain": [
              "                      Impact  Risk Type Reputation\n",
              "0  Equipment Property Damage             17.808410\n",
              "1                   Fatality             17.000000\n",
              "2                  First Aid             17.258659\n",
              "3                        LTI             17.430923"
            ]
          },
          "metadata": {
            "tags": []
          },
          "execution_count": 31
        }
      ]
    },
    {
      "cell_type": "code",
      "metadata": {
        "id": "aQOjggkniQIu",
        "outputId": "38ac902c-2bee-42c9-ce25-6bdcf71dcc31",
        "colab": {
          "base_uri": "https://localhost:8080/",
          "height": 166
        }
      },
      "source": [
        "df[[\"Impact\",\"Risk Type Injury\"]].groupby(['Impact'],as_index=False).mean().sort_values(by='Impact',ascending=True)"
      ],
      "execution_count": null,
      "outputs": [
        {
          "output_type": "execute_result",
          "data": {
            "text/html": [
              "<div>\n",
              "<style scoped>\n",
              "    .dataframe tbody tr th:only-of-type {\n",
              "        vertical-align: middle;\n",
              "    }\n",
              "\n",
              "    .dataframe tbody tr th {\n",
              "        vertical-align: top;\n",
              "    }\n",
              "\n",
              "    .dataframe thead th {\n",
              "        text-align: right;\n",
              "    }\n",
              "</style>\n",
              "<table border=\"1\" class=\"dataframe\">\n",
              "  <thead>\n",
              "    <tr style=\"text-align: right;\">\n",
              "      <th></th>\n",
              "      <th>Impact</th>\n",
              "      <th>Risk Type Injury</th>\n",
              "    </tr>\n",
              "  </thead>\n",
              "  <tbody>\n",
              "    <tr>\n",
              "      <th>0</th>\n",
              "      <td>Equipment Property Damage</td>\n",
              "      <td>16.248843</td>\n",
              "    </tr>\n",
              "    <tr>\n",
              "      <th>1</th>\n",
              "      <td>Fatality</td>\n",
              "      <td>16.666667</td>\n",
              "    </tr>\n",
              "    <tr>\n",
              "      <th>2</th>\n",
              "      <td>First Aid</td>\n",
              "      <td>16.036780</td>\n",
              "    </tr>\n",
              "    <tr>\n",
              "      <th>3</th>\n",
              "      <td>LTI</td>\n",
              "      <td>15.917108</td>\n",
              "    </tr>\n",
              "  </tbody>\n",
              "</table>\n",
              "</div>"
            ],
            "text/plain": [
              "                      Impact  Risk Type Injury\n",
              "0  Equipment Property Damage         16.248843\n",
              "1                   Fatality         16.666667\n",
              "2                  First Aid         16.036780\n",
              "3                        LTI         15.917108"
            ]
          },
          "metadata": {
            "tags": []
          },
          "execution_count": 32
        }
      ]
    },
    {
      "cell_type": "code",
      "metadata": {
        "id": "mEAdyXUHiQGJ",
        "outputId": "cfeb4984-27b1-4df3-9662-31294dbe6103",
        "colab": {
          "base_uri": "https://localhost:8080/",
          "height": 166
        }
      },
      "source": [
        "df[[\"Impact\",\"Risk Type Environment\"]].groupby(['Impact'],as_index=False).mean().sort_values(by='Impact',ascending=True)"
      ],
      "execution_count": null,
      "outputs": [
        {
          "output_type": "execute_result",
          "data": {
            "text/html": [
              "<div>\n",
              "<style scoped>\n",
              "    .dataframe tbody tr th:only-of-type {\n",
              "        vertical-align: middle;\n",
              "    }\n",
              "\n",
              "    .dataframe tbody tr th {\n",
              "        vertical-align: top;\n",
              "    }\n",
              "\n",
              "    .dataframe thead th {\n",
              "        text-align: right;\n",
              "    }\n",
              "</style>\n",
              "<table border=\"1\" class=\"dataframe\">\n",
              "  <thead>\n",
              "    <tr style=\"text-align: right;\">\n",
              "      <th></th>\n",
              "      <th>Impact</th>\n",
              "      <th>Risk Type Environment</th>\n",
              "    </tr>\n",
              "  </thead>\n",
              "  <tbody>\n",
              "    <tr>\n",
              "      <th>0</th>\n",
              "      <td>Equipment Property Damage</td>\n",
              "      <td>16.465625</td>\n",
              "    </tr>\n",
              "    <tr>\n",
              "      <th>1</th>\n",
              "      <td>Fatality</td>\n",
              "      <td>14.666667</td>\n",
              "    </tr>\n",
              "    <tr>\n",
              "      <th>2</th>\n",
              "      <td>First Aid</td>\n",
              "      <td>16.078993</td>\n",
              "    </tr>\n",
              "    <tr>\n",
              "      <th>3</th>\n",
              "      <td>LTI</td>\n",
              "      <td>16.502976</td>\n",
              "    </tr>\n",
              "  </tbody>\n",
              "</table>\n",
              "</div>"
            ],
            "text/plain": [
              "                      Impact  Risk Type Environment\n",
              "0  Equipment Property Damage              16.465625\n",
              "1                   Fatality              14.666667\n",
              "2                  First Aid              16.078993\n",
              "3                        LTI              16.502976"
            ]
          },
          "metadata": {
            "tags": []
          },
          "execution_count": 33
        }
      ]
    },
    {
      "cell_type": "code",
      "metadata": {
        "id": "sUiD4DKhiQEv",
        "outputId": "78ecc6d5-ff3c-4d2a-a73d-48d0d4c1a3a1",
        "colab": {
          "base_uri": "https://localhost:8080/",
          "height": 431
        }
      },
      "source": [
        "df.groupby('Impact')['Risk Type Injury'].mean().plot.bar()"
      ],
      "execution_count": null,
      "outputs": [
        {
          "output_type": "execute_result",
          "data": {
            "text/plain": [
              "<matplotlib.axes._subplots.AxesSubplot at 0x7fba372c2c88>"
            ]
          },
          "metadata": {
            "tags": []
          },
          "execution_count": 34
        },
        {
          "output_type": "display_data",
          "data": {
            "image/png": "[encoded data removed]",
            "text/plain": [
              "<Figure size 432x288 with 1 Axes>"
            ]
          },
          "metadata": {
            "tags": [],
            "needs_background": "light"
          }
        }
      ]
    },
    {
      "cell_type": "code",
      "metadata": {
        "id": "Yg4jGm8DiQCJ",
        "outputId": "2c791246-80f6-4b25-b138-1fc150a097da",
        "colab": {
          "base_uri": "https://localhost:8080/",
          "height": 1000
        }
      },
      "source": [
        "print(pd.crosstab(df[\"Risk Type Injury\"],df[\"Impact\"], margins = True).plot.bar())\n",
        "print(pd.crosstab(df[\"Risk Type Injury\"],df[\"Shift\"], margins = True).plot.bar())\n",
        "print(pd.crosstab(df[\"Risk Type Injury\"],df[\"Incident Category\"], margins = True).plot.bar())\n",
        "print(pd.crosstab(df[\"Risk Type Injury\"],df[\"Incident Location\"], margins = True).plot.bar())\n",
        "print(pd.crosstab(df[\"Risk Type Injury\"],df[\"Activity Type\"], margins = True).plot.bar())\n",
        "print(pd.crosstab(df[\"Risk Type Injury\"],df[\"Prime Cause\"], margins = True).plot.bar())\n",
        "print(pd.crosstab(df[\"Risk Type Injury\"],df[\"IO-Division\"], margins = True).plot.bar())\n",
        "print(pd.crosstab(df[\"Risk Type Injury\"],df[\"IO-Division\"], margins = True).plot.bar())\n",
        "print(pd.crosstab(df[\"Risk Type Injury\"],df[\"month\"], margins = True).plot.bar())\n",
        "print(pd.crosstab(df[\"Risk Type Injury\"],df[\"day\"], margins = True).plot.bar())\n",
        "print(pd.crosstab(df[\"Risk Type Injury\"],df[\"dayofweek\"], margins = True).plot.bar())\n",
        "print(pd.crosstab(df[\"Risk Type Injury\"],df[\"hour\"], margins = True).plot.bar())\n",
        "print(df.columns)"
      ],
      "execution_count": null,
      "outputs": [
        {
          "output_type": "stream",
          "text": [
            "AxesSubplot(0.125,0.125;0.775x0.755)\n",
            "AxesSubplot(0.125,0.125;0.775x0.755)\n",
            "AxesSubplot(0.125,0.125;0.775x0.755)\n",
            "AxesSubplot(0.125,0.125;0.775x0.755)\n",
            "AxesSubplot(0.125,0.125;0.775x0.755)\n",
            "AxesSubplot(0.125,0.125;0.775x0.755)\n",
            "AxesSubplot(0.125,0.125;0.775x0.755)\n",
            "AxesSubplot(0.125,0.125;0.775x0.755)\n",
            "AxesSubplot(0.125,0.125;0.775x0.755)\n",
            "AxesSubplot(0.125,0.125;0.775x0.755)\n",
            "AxesSubplot(0.125,0.125;0.775x0.755)\n",
            "AxesSubplot(0.125,0.125;0.775x0.755)\n",
            "Index(['date', 'Shift', 'Time', 'IO-Division', 'IO-Department',\n",
            "       'Brief Description', 'Incident Category', 'Incident Location', 'Impact',\n",
            "       'Activity Type', 'Prime Cause', 'Risk Type Equipment ',\n",
            "       'Risk Type Environment', 'Risk Type Injury', 'Risk Type Reputation',\n",
            "       'Datetime', 'month', 'day', 'dayofweek', 'hour'],\n",
            "      dtype='object')\n"
          ],
          "name": "stdout"
        },
        {
          "output_type": "display_data",
          "data": {
            "image/png": "[encoded data removed]",
            "text/plain": [
              "<Figure size 432x288 with 1 Axes>"
            ]
          },
          "metadata": {
            "tags": [],
            "needs_background": "light"
          }
        },
        {
          "output_type": "display_data",
          "data": {
            "image/png": "[encoded data removed]",
            "text/plain": [
              "<Figure size 432x288 with 1 Axes>"
            ]
          },
          "metadata": {
            "tags": [],
            "needs_background": "light"
          }
        },
        {
          "output_type": "display_data",
          "data": {
            "image/png": "[encoded data removed]",
            "text/plain": [
              "<Figure size 432x288 with 1 Axes>"
            ]
          },
          "metadata": {
            "tags": [],
            "needs_background": "light"
          }
        },
        {
          "output_type": "display_data",
          "data": {
            "image/png": "[encoded data removed]",
            "text/plain": [
              "<Figure size 432x288 with 1 Axes>"
            ]
          },
          "metadata": {
            "tags": [],
            "needs_background": "light"
          }
        },
        {
          "output_type": "display_data",
          "data": {
            "image/png": "[encoded data removed]",
            "text/plain": [
              "<Figure size 432x288 with 1 Axes>"
            ]
          },
          "metadata": {
            "tags": [],
            "needs_background": "light"
          }
        },
        {
          "output_type": "display_data",
          "data": {
            "image/png": "[encoded data removed]",
            "text/plain": [
              "<Figure size 432x288 with 1 Axes>"
            ]
          },
          "metadata": {
            "tags": [],
            "needs_background": "light"
          }
        },
        {
          "output_type": "display_data",
          "data": {
            "image/png": "[encoded data removed]",
            "text/plain": [
              "<Figure size 432x288 with 1 Axes>"
            ]
          },
          "metadata": {
            "tags": [],
            "needs_background": "light"
          }
        },
        {
          "output_type": "display_data",
          "data": {
            "image/png": "[encoded data removed]",
            "text/plain": [
              "<Figure size 432x288 with 1 Axes>"
            ]
          },
          "metadata": {
            "tags": [],
            "needs_background": "light"
          }
        },
        {
          "output_type": "display_data",
          "data": {
            "image/png": "[encoded data removed]",
            "text/plain": [
              "<Figure size 432x288 with 1 Axes>"
            ]
          },
          "metadata": {
            "tags": [],
            "needs_background": "light"
          }
        },
        {
          "output_type": "display_data",
          "data": {
            "image/png": "[encoded data removed]",
            "text/plain": [
              "<Figure size 432x288 with 1 Axes>"
            ]
          },
          "metadata": {
            "tags": [],
            "needs_background": "light"
          }
        },
        {
          "output_type": "display_data",
          "data": {
            "image/png": "[encoded data removed]",
            "text/plain": [
              "<Figure size 432x288 with 1 Axes>"
            ]
          },
          "metadata": {
            "tags": [],
            "needs_background": "light"
          }
        },
        {
          "output_type": "display_data",
          "data": {
            "image/png": "[encoded data removed]",
            "text/plain": [
              "<Figure size 432x288 with 1 Axes>"
            ]
          },
          "metadata": {
            "tags": [],
            "needs_background": "light"
          }
        }
      ]
    },
    {
      "cell_type": "code",
      "metadata": {
        "id": "Je0VHPGwiP72",
        "outputId": "ae040d69-20cb-4e55-f3c4-4d6259a39fe7",
        "colab": {
          "base_uri": "https://localhost:8080/",
          "height": 151
        }
      },
      "source": [
        "print(pd.crosstab(df[\"Shift\"],df[\"Risk Type Injury\"], margins = True))"
      ],
      "execution_count": null,
      "outputs": [
        {
          "output_type": "stream",
          "text": [
            "Risk Type Injury  5.0  8.0  10.0  13.0  ...  23.0  25.0  28.0  All\n",
            "Shift                                   ...                       \n",
            "A                   0    1    33     0  ...     1     2     0  110\n",
            "B                   1    0    10     1  ...     0     0     1   48\n",
            "C                   0    0     5     0  ...     0     1     0   18\n",
            "All                 1    1    48     1  ...     1     3     1  176\n",
            "\n",
            "[4 rows x 13 columns]\n"
          ],
          "name": "stdout"
        }
      ]
    },
    {
      "cell_type": "code",
      "metadata": {
        "id": "nj6gZ4HQiP42",
        "outputId": "92e0a005-0010-46d6-aff1-db709416e60c",
        "colab": {
          "base_uri": "https://localhost:8080/",
          "height": 353
        }
      },
      "source": [
        "print(pd.crosstab(df[\"IO-Division\"],df[\"Risk Type Injury\"], margins = True))"
      ],
      "execution_count": null,
      "outputs": [
        {
          "output_type": "stream",
          "text": [
            "Risk Type Injury                                    5.0  8.0  ...  28.0  All\n",
            "IO-Division                                                   ...           \n",
            "Engineering & Project                                 0    0  ...     0   20\n",
            "FAM                                                   0    0  ...     0    7\n",
            "IBMD                                                  1    0  ...     0    4\n",
            "Iron Making                                           0    0  ...     0    5\n",
            "Jharia Division                                       0    0  ...     0   14\n",
            "KPO                                                   0    0  ...     0    4\n",
            "KPO Engg & Projects And TGS                           0    0  ...     0    5\n",
            "KPO OPERATIONS AND MAINTENANCE NEW WITH EFFECT ...    0    0  ...     0    2\n",
            "O M & Q                                               0    0  ...     1    6\n",
            "Shared Services                                       0    0  ...     0   25\n",
            "Steel Manufacturing                                   0    1  ...     0   37\n",
            "Tata Steel                                            0    0  ...     0    4\n",
            "Tubes Division                                        0    0  ...     0   13\n",
            "West Bokaro                                           0    0  ...     0   19\n",
            "Wire Division                                         0    0  ...     0   11\n",
            "All                                                   1    1  ...     1  176\n",
            "\n",
            "[16 rows x 13 columns]\n"
          ],
          "name": "stdout"
        }
      ]
    },
    {
      "cell_type": "code",
      "metadata": {
        "id": "Q8kFHxNjiP2_",
        "outputId": "2d86fedd-8690-4d33-cb21-b431f593bf45",
        "colab": {
          "base_uri": "https://localhost:8080/",
          "height": 134
        }
      },
      "source": [
        "print(pd.crosstab(df[\"Incident Category\"],df[\"Risk Type Injury\"], margins = True))"
      ],
      "execution_count": null,
      "outputs": [
        {
          "output_type": "stream",
          "text": [
            "Risk Type Injury                        5.0  8.0  10.0  ...  25.0  28.0  All\n",
            "Incident Category                                       ...                 \n",
            "Incident (Injury/ Property Damage etc)    0    0    10  ...     0     0   27\n",
            "Near Miss                                 1    1    38  ...     3     1  149\n",
            "All                                       1    1    48  ...     3     1  176\n",
            "\n",
            "[3 rows x 13 columns]\n"
          ],
          "name": "stdout"
        }
      ]
    },
    {
      "cell_type": "code",
      "metadata": {
        "id": "HBPHCZ9-iPxA",
        "outputId": "2d829048-9ef0-4f59-9415-e3c4e8f821a7",
        "colab": {
          "base_uri": "https://localhost:8080/",
          "height": 134
        }
      },
      "source": [
        "print(pd.crosstab(df[\"Incident Location\"],df[\"Risk Type Injury\"], margins = True))"
      ],
      "execution_count": null,
      "outputs": [
        {
          "output_type": "stream",
          "text": [
            "Risk Type Injury   5.0  8.0  10.0  13.0  ...  23.0  25.0  28.0  All\n",
            "Incident Location                        ...                       \n",
            "Mines                0    0     0     0  ...     0     0     1    1\n",
            "Workplace            1    1    48     1  ...     1     3     0  175\n",
            "All                  1    1    48     1  ...     1     3     1  176\n",
            "\n",
            "[3 rows x 13 columns]\n"
          ],
          "name": "stdout"
        }
      ]
    },
    {
      "cell_type": "code",
      "metadata": {
        "id": "3dnkPBJ0iPu4",
        "outputId": "ed676c2b-b75a-4210-b7cd-e14d25b389e2",
        "colab": {
          "base_uri": "https://localhost:8080/",
          "height": 151
        }
      },
      "source": [
        "print(pd.crosstab(df[\"Activity Type\"],df[\"Risk Type Injury\"], margins = True))"
      ],
      "execution_count": null,
      "outputs": [
        {
          "output_type": "stream",
          "text": [
            "Risk Type Injury   5.0  8.0  10.0  13.0  ...  23.0  25.0  28.0  All\n",
            "Activity Type                            ...                       \n",
            "Construction Site    0    0     7     0  ...     0     0     1   25\n",
            "Maintenance          0    0    23     1  ...     1     2     0   74\n",
            "Operations           1    1    18     0  ...     0     1     0   77\n",
            "All                  1    1    48     1  ...     1     3     1  176\n",
            "\n",
            "[4 rows x 13 columns]\n"
          ],
          "name": "stdout"
        }
      ]
    },
    {
      "cell_type": "code",
      "metadata": {
        "id": "1PvolYKqT9ng",
        "outputId": "9f97ae81-e789-4221-b1fb-095cae5e6b36",
        "colab": {
          "base_uri": "https://localhost:8080/",
          "height": 235
        }
      },
      "source": [
        "print(pd.crosstab(df[\"Prime Cause\"],df[\"Risk Type Injury\"], margins = True))"
      ],
      "execution_count": null,
      "outputs": [
        {
          "output_type": "stream",
          "text": [
            "Risk Type Injury            5.0  8.0  10.0  13.0  ...  23.0  25.0  28.0  All\n",
            "Prime Cause                                       ...                       \n",
            "Electrical fault              0    0     3     0  ...     0     0     0    7\n",
            "Fall from Height              0    0     8     0  ...     0     0     0   20\n",
            "Fall of Object                0    1     8     0  ...     0     0     0   36\n",
            "Hit by Object                 0    0    12     0  ...     0     2     0   46\n",
            "Man-Machine Interface         0    0     4     0  ...     0     0     1   13\n",
            "Side fall of material         0    0     2     0  ...     0     0     0    6\n",
            "Slip /trip /fall              0    0     2     0  ...     1     0     0   16\n",
            "Unsafe loading & Unloading    1    0     9     1  ...     0     1     0   32\n",
            "All                           1    1    48     1  ...     1     3     1  176\n",
            "\n",
            "[9 rows x 13 columns]\n"
          ],
          "name": "stdout"
        }
      ]
    },
    {
      "cell_type": "code",
      "metadata": {
        "id": "9CrhrE1hBViq",
        "outputId": "fe601a93-859c-4a08-f27b-c8d54943c9a9",
        "colab": {
          "base_uri": "https://localhost:8080/",
          "height": 1000
        }
      },
      "source": [
        "print(pd.crosstab(df[\"Impact\"],df[\"Risk Type Environment\"], margins = True))\n",
        "print(pd.crosstab(df[\"Shift\"],df[\"Risk Type Environment\"], margins = True))\n",
        "print(pd.crosstab(df[\"IO-Division\"],df[\"Risk Type Environment\"], margins = True))\n",
        "print(pd.crosstab(df[\"Incident Category\"],df[\"Risk Type Environment\"], margins = True))\n",
        "print(pd.crosstab(df[\"Incident Location\"],df[\"Risk Type Environment\"], margins = True))\n",
        "print(pd.crosstab(df[\"Activity Type\"],df[\"Risk Type Environment\"], margins = True))\n",
        "print(pd.crosstab(df[\"Prime Cause\"],df[\"Risk Type Environment\"], margins = True))"
      ],
      "execution_count": null,
      "outputs": [
        {
          "output_type": "stream",
          "text": [
            "Risk Type Environment      10.0  15.0  16.28125  17.0  ...  24.0  25.0  27.0  All\n",
            "Impact                                                 ...                       \n",
            "Equipment Property Damage    19     0         8    25  ...     0     1     0   80\n",
            "Fatality                      1     0         0     2  ...     0     0     0    3\n",
            "First Aid                    23     1         6    16  ...     1     2     1   72\n",
            "LTI                           5     0         2     6  ...     0     0     0   21\n",
            "All                          48     1        16    49  ...     1     3     1  176\n",
            "\n",
            "[5 rows x 12 columns]\n",
            "Risk Type Environment  10.0  15.0  16.28125  17.0  ...  24.0  25.0  27.0  All\n",
            "Shift                                              ...                       \n",
            "A                        33     0        13    28  ...     1     1     0  110\n",
            "B                        10     1         3    15  ...     0     0     1   48\n",
            "C                         5     0         0     6  ...     0     2     0   18\n",
            "All                      48     1        16    49  ...     1     3     1  176\n",
            "\n",
            "[4 rows x 12 columns]\n",
            "Risk Type Environment                               10.0  15.0  ...  27.0  All\n",
            "IO-Division                                                     ...           \n",
            "Engineering & Project                                  6     0  ...     0   20\n",
            "FAM                                                    1     0  ...     0    7\n",
            "IBMD                                                   2     0  ...     0    4\n",
            "Iron Making                                            1     0  ...     0    5\n",
            "Jharia Division                                        6     0  ...     0   14\n",
            "KPO                                                    1     0  ...     0    4\n",
            "KPO Engg & Projects And TGS                            1     1  ...     0    5\n",
            "KPO OPERATIONS AND MAINTENANCE NEW WITH EFFECT ...     0     0  ...     0    2\n",
            "O M & Q                                                2     0  ...     1    6\n",
            "Shared Services                                        6     0  ...     0   25\n",
            "Steel Manufacturing                                   12     0  ...     0   37\n",
            "Tata Steel                                             1     0  ...     0    4\n",
            "Tubes Division                                         2     0  ...     0   13\n",
            "West Bokaro                                            5     0  ...     0   19\n",
            "Wire Division                                          2     0  ...     0   11\n",
            "All                                                   48     1  ...     1  176\n",
            "\n",
            "[16 rows x 12 columns]\n",
            "Risk Type Environment                   10.0  15.0  16.28125  ...  25.0  27.0  All\n",
            "Incident Category                                             ...                 \n",
            "Incident (Injury/ Property Damage etc)    10     0         0  ...     1     0   27\n",
            "Near Miss                                 38     1        16  ...     2     1  149\n",
            "All                                       48     1        16  ...     3     1  176\n",
            "\n",
            "[3 rows x 12 columns]\n",
            "Risk Type Environment  10.0  15.0  16.28125  17.0  ...  24.0  25.0  27.0  All\n",
            "Incident Location                                  ...                       \n",
            "Mines                     0     0         0     0  ...     0     0     1    1\n",
            "Workplace                48     1        16    49  ...     1     3     0  175\n",
            "All                      48     1        16    49  ...     1     3     1  176\n",
            "\n",
            "[3 rows x 12 columns]\n",
            "Risk Type Environment  10.0  15.0  16.28125  17.0  ...  24.0  25.0  27.0  All\n",
            "Activity Type                                      ...                       \n",
            "Construction Site         7     0         2     6  ...     0     0     1   25\n",
            "Maintenance              23     0         7    21  ...     1     1     0   74\n",
            "Operations               18     1         7    22  ...     0     2     0   77\n",
            "All                      48     1        16    49  ...     1     3     1  176\n",
            "\n",
            "[4 rows x 12 columns]\n",
            "Risk Type Environment       10.0  15.0  16.28125  17.0  ...  24.0  25.0  27.0  All\n",
            "Prime Cause                                             ...                       \n",
            "Electrical fault               3     0         0     2  ...     0     1     0    7\n",
            "Fall from Height               8     0         2     7  ...     0     0     0   20\n",
            "Fall of Object                 8     0         3    11  ...     0     0     0   36\n",
            "Hit by Object                 12     0         6    15  ...     0     2     0   46\n",
            "Man-Machine Interface          4     0         2     2  ...     0     0     1   13\n",
            "Side fall of material          2     0         1     0  ...     0     0     0    6\n",
            "Slip /trip /fall               2     0         2     5  ...     1     0     0   16\n",
            "Unsafe loading & Unloading     9     1         0     7  ...     0     0     0   32\n",
            "All                           48     1        16    49  ...     1     3     1  176\n",
            "\n",
            "[9 rows x 12 columns]\n"
          ],
          "name": "stdout"
        }
      ]
    },
    {
      "cell_type": "code",
      "metadata": {
        "id": "QGyKNH4_BV2H",
        "outputId": "ee415bc7-f2c8-4b35-f98b-fef3ade9c8fc",
        "colab": {
          "base_uri": "https://localhost:8080/",
          "height": 1000
        }
      },
      "source": [
        "print(pd.crosstab(df[\"Impact\"],df[\"Risk Type Reputation\"], margins = True))\n",
        "print(pd.crosstab(df[\"Shift\"],df[\"Risk Type Reputation\"], margins = True))\n",
        "print(pd.crosstab(df[\"IO-Division\"],df[\"Risk Type Reputation\"], margins = True))\n",
        "print(pd.crosstab(df[\"Incident Category\"],df[\"Risk Type Reputation\"], margins = True))\n",
        "print(pd.crosstab(df[\"Incident Location\"],df[\"Risk Type Reputation\"], margins = True))\n",
        "print(pd.crosstab(df[\"Activity Type\"],df[\"Risk Type Reputation\"], margins = True))\n",
        "print(pd.crosstab(df[\"Prime Cause\"],df[\"Risk Type Reputation\"], margins = True))"
      ],
      "execution_count": null,
      "outputs": [
        {
          "output_type": "stream",
          "text": [
            "Risk Type Reputation       15.0  17.0  17.52469135802469  ...  25.0  34.0  All\n",
            "Impact                                                    ...                 \n",
            "Equipment Property Damage    19     0                  7  ...     1     1   80\n",
            "Fatality                      1     0                  0  ...     0     0    3\n",
            "First Aid                    25     1                  5  ...     3     0   72\n",
            "LTI                           5     0                  2  ...     0     0   21\n",
            "All                          50     1                 14  ...     4     1  176\n",
            "\n",
            "[5 rows x 10 columns]\n",
            "Risk Type Reputation  15.0  17.0  17.52469135802469  ...  25.0  34.0  All\n",
            "Shift                                                ...                 \n",
            "A                       34     1                 11  ...     2     1  110\n",
            "B                       11     0                  3  ...     1     0   48\n",
            "C                        5     0                  0  ...     1     0   18\n",
            "All                     50     1                 14  ...     4     1  176\n",
            "\n",
            "[4 rows x 10 columns]\n",
            "Risk Type Reputation                                15.0  17.0  ...  34.0  All\n",
            "IO-Division                                                     ...           \n",
            "Engineering & Project                                  6     0  ...     0   20\n",
            "FAM                                                    2     0  ...     0    7\n",
            "IBMD                                                   2     0  ...     0    4\n",
            "Iron Making                                            1     0  ...     0    5\n",
            "Jharia Division                                        6     0  ...     1   14\n",
            "KPO                                                    1     0  ...     0    4\n",
            "KPO Engg & Projects And TGS                            2     0  ...     0    5\n",
            "KPO OPERATIONS AND MAINTENANCE NEW WITH EFFECT ...     0     0  ...     0    2\n",
            "O M & Q                                                2     0  ...     0    6\n",
            "Shared Services                                        6     0  ...     0   25\n",
            "Steel Manufacturing                                   12     0  ...     0   37\n",
            "Tata Steel                                             1     0  ...     0    4\n",
            "Tubes Division                                         2     0  ...     0   13\n",
            "West Bokaro                                            5     1  ...     0   19\n",
            "Wire Division                                          2     0  ...     0   11\n",
            "All                                                   50     1  ...     1  176\n",
            "\n",
            "[16 rows x 10 columns]\n",
            "Risk Type Reputation                    15.0  17.0  ...  34.0  All\n",
            "Incident Category                                   ...           \n",
            "Incident (Injury/ Property Damage etc)    10     0  ...     0   27\n",
            "Near Miss                                 40     1  ...     1  149\n",
            "All                                       50     1  ...     1  176\n",
            "\n",
            "[3 rows x 10 columns]\n",
            "Risk Type Reputation  15.0  17.0  17.52469135802469  ...  25.0  34.0  All\n",
            "Incident Location                                    ...                 \n",
            "Mines                    0     0                  0  ...     1     0    1\n",
            "Workplace               50     1                 14  ...     3     1  175\n",
            "All                     50     1                 14  ...     4     1  176\n",
            "\n",
            "[3 rows x 10 columns]\n",
            "Risk Type Reputation  15.0  17.0  17.52469135802469  ...  25.0  34.0  All\n",
            "Activity Type                                        ...                 \n",
            "Construction Site        7     0                  2  ...     1     0   25\n",
            "Maintenance             24     1                  6  ...     1     1   74\n",
            "Operations              19     0                  6  ...     2     0   77\n",
            "All                     50     1                 14  ...     4     1  176\n",
            "\n",
            "[4 rows x 10 columns]\n",
            "Risk Type Reputation        15.0  17.0  17.52469135802469  ...  25.0  34.0  All\n",
            "Prime Cause                                                ...                 \n",
            "Electrical fault               3     0                  0  ...     0     0    7\n",
            "Fall from Height               8     0                  2  ...     0     0   20\n",
            "Fall of Object                 8     0                  3  ...     0     0   36\n",
            "Hit by Object                 12     0                  5  ...     3     0   46\n",
            "Man-Machine Interface          4     0                  2  ...     1     0   13\n",
            "Side fall of material          2     0                  1  ...     0     0    6\n",
            "Slip /trip /fall               3     1                  1  ...     0     0   16\n",
            "Unsafe loading & Unloading    10     0                  0  ...     0     1   32\n",
            "All                           50     1                 14  ...     4     1  176\n",
            "\n",
            "[9 rows x 10 columns]\n"
          ],
          "name": "stdout"
        }
      ]
    },
    {
      "cell_type": "code",
      "metadata": {
        "id": "StkDREmSqaYC"
      },
      "source": [
        "#from sklearn.preprocessing import OneHotEncoder\n",
        "#one_hot_encoder= OneHotEncoder(handle_unknown='ignore')\n",
        "#enc_df = pd.DataFrame(one_hot_encoder.fit_transform(df['Activity Type']).toarray())\n",
        "#df = df.join(enc_df)\n",
        "#df.head()"
      ],
      "execution_count": null,
      "outputs": []
    },
    {
      "cell_type": "code",
      "metadata": {
        "id": "Tcardhvve68G",
        "outputId": "c3428f7c-1d1b-4687-9709-cd3d48096624",
        "colab": {
          "base_uri": "https://localhost:8080/",
          "height": 84
        }
      },
      "source": [
        "from sklearn.preprocessing import LabelEncoder\n",
        "labelencoder=LabelEncoder()\n",
        "df['Shift']=labelencoder.fit_transform(df['Shift'])\n",
        "print(df['Shift'].max())\n",
        "df['Prime Cause']=labelencoder.fit_transform(df['Prime Cause'])\n",
        "print(df['Prime Cause'].max())\n",
        "df['IO-Division']=labelencoder.fit_transform(df['IO-Division'])\n",
        "print(df['IO-Division'].max())\n",
        "df['Impact']=labelencoder.fit_transform(df['Impact'])\n",
        "print(df['Impact'].max())"
      ],
      "execution_count": null,
      "outputs": [
        {
          "output_type": "stream",
          "text": [
            "2\n",
            "7\n",
            "14\n",
            "3\n"
          ],
          "name": "stdout"
        }
      ]
    },
    {
      "cell_type": "code",
      "metadata": {
        "id": "q6q_d6-5e7F4",
        "outputId": "451beed0-46e8-40e3-d8bb-5a536c431514",
        "colab": {
          "base_uri": "https://localhost:8080/",
          "height": 34
        }
      },
      "source": [
        "df['Incident Category']=labelencoder.fit_transform(df['Incident Category'])\n",
        "print(df['Incident Category'].max())"
      ],
      "execution_count": null,
      "outputs": [
        {
          "output_type": "stream",
          "text": [
            "1\n"
          ],
          "name": "stdout"
        }
      ]
    },
    {
      "cell_type": "code",
      "metadata": {
        "id": "SUXyFumnMtmr",
        "outputId": "62ea451d-75ef-408a-8d9c-d27e1b13ed1c",
        "colab": {
          "base_uri": "https://localhost:8080/",
          "height": 34
        }
      },
      "source": [
        "df['Incident Location']=labelencoder.fit_transform(df['Incident Location'])\n",
        "print(df['Incident Location'].max())"
      ],
      "execution_count": null,
      "outputs": [
        {
          "output_type": "stream",
          "text": [
            "1\n"
          ],
          "name": "stdout"
        }
      ]
    },
    {
      "cell_type": "code",
      "metadata": {
        "id": "hh-xU8O7fAYN",
        "outputId": "320a43f7-638a-45f0-ef12-6c01322926eb",
        "colab": {
          "base_uri": "https://localhost:8080/",
          "height": 50
        }
      },
      "source": [
        "df['Activity Type']=labelencoder.fit_transform(df['Activity Type'])\n",
        "print(df['Activity Type'].max())\n",
        "print(df['Shift'].max())\n",
        "#df[\"Activity Type\"]= df[\"Activity Type\"] == 1\n",
        "#df['Shift']=   df['Shift']== 1 \n"
      ],
      "execution_count": null,
      "outputs": [
        {
          "output_type": "stream",
          "text": [
            "2\n",
            "2\n"
          ],
          "name": "stdout"
        }
      ]
    },
    {
      "cell_type": "code",
      "metadata": {
        "id": "yJwrBN16e7Bu",
        "outputId": "995b89be-a157-4220-db67-0e12875053a8",
        "colab": {
          "base_uri": "https://localhost:8080/",
          "height": 302
        }
      },
      "source": [
        "print(df.describe())\n",
        "print(df.columns)"
      ],
      "execution_count": null,
      "outputs": [
        {
          "output_type": "stream",
          "text": [
            "            Shift  IO-Division  ...   dayofweek        hour\n",
            "count  176.000000   176.000000  ...  176.000000  176.000000\n",
            "mean     0.477273     7.920455  ...    2.693182   11.579545\n",
            "std      0.675739     4.447077  ...    1.844578    4.397978\n",
            "min      0.000000     0.000000  ...    0.000000    1.000000\n",
            "25%      0.000000     4.000000  ...    1.000000    9.000000\n",
            "50%      0.000000     9.000000  ...    3.000000   11.000000\n",
            "75%      1.000000    11.000000  ...    4.000000   15.000000\n",
            "max      2.000000    14.000000  ...    6.000000   23.000000\n",
            "\n",
            "[8 rows x 15 columns]\n",
            "Index(['date', 'Shift', 'Time', 'IO-Division', 'IO-Department',\n",
            "       'Brief Description', 'Incident Category', 'Incident Location', 'Impact',\n",
            "       'Activity Type', 'Prime Cause', 'Risk Type Equipment ',\n",
            "       'Risk Type Environment', 'Risk Type Injury', 'Risk Type Reputation',\n",
            "       'Datetime', 'month', 'day', 'dayofweek', 'hour'],\n",
            "      dtype='object')\n"
          ],
          "name": "stdout"
        }
      ]
    },
    {
      "cell_type": "code",
      "metadata": {
        "id": "tEBEYl6qe6-8",
        "outputId": "da457038-3b99-4fa7-91ef-b9ca158a918b",
        "colab": {
          "base_uri": "https://localhost:8080/",
          "height": 252
        }
      },
      "source": [
        "from statsmodels.discrete.discrete_model import Probit\n",
        "from statsmodels.discrete.discrete_model import Logit\n",
        "Y_injury=df['Risk Type Injury']\n",
        "X_injury = df.drop([\"Risk Type Injury\"], axis=1)\n",
        "X_injury= X_injury.drop(['date','Time','IO-Department','Brief Description', 'Datetime', 'month', 'day', 'dayofweek', 'hour'],axis=1)\n",
        "#X=df['Risk Type Equipment','Risk Type Environment','Risk Type Reputation']\n",
        "#train = train.drop(['Name','Ticket', 'Cabin','Embarked'], axis=1)\n",
        "print(X_injury.head())\n",
        "X_injury= X_injury.apply (pd.to_numeric, errors='coerce')\n",
        "X_injury =  X_injury.replace(np.nan,0)\n",
        "Y_injury = Y_injury.apply (pd.to_numeric, errors='coerce')\n",
        "Y_injury =  Y_injury.replace(np.nan,0)\n",
        "X_injury.isnull().values.any()\n",
        "X_injury.isnull().sum().sum()\n",
        "Y_injury.head()"
      ],
      "execution_count": null,
      "outputs": [
        {
          "output_type": "stream",
          "text": [
            "   Shift  IO-Division  ...  Risk Type Environment  Risk Type Reputation\n",
            "0      0            0  ...                   20.0                  18.0\n",
            "1      0            0  ...                   17.0                  18.0\n",
            "2      2            3  ...                   10.0                  15.0\n",
            "3      0            4  ...                   23.0                  34.0\n",
            "4      0           13  ...                   24.0                  17.0\n",
            "\n",
            "[5 rows x 10 columns]\n"
          ],
          "name": "stdout"
        },
        {
          "output_type": "execute_result",
          "data": {
            "text/plain": [
              "0    17.0\n",
              "1    20.0\n",
              "2    10.0\n",
              "3    25.0\n",
              "4    23.0\n",
              "Name: Risk Type Injury, dtype: float64"
            ]
          },
          "metadata": {
            "tags": []
          },
          "execution_count": 51
        }
      ]
    },
    {
      "cell_type": "code",
      "metadata": {
        "id": "zbmQxWs52LZC",
        "outputId": "956ce84a-96b2-4155-e123-c003aea3b0f7",
        "colab": {
          "base_uri": "https://localhost:8080/",
          "height": 195
        }
      },
      "source": [
        "import statsmodels.api as sm\n",
        "#X = sm.add_constant(X)\n",
        "Y_injury= (Y_injury- min(Y_injury))/(max(Y_injury)-min(Y_injury))  \n",
        "from sklearn import preprocessing\n",
        "x_injury = X_injury.values #returns a numpy array\n",
        "min_max_scaler = preprocessing.MinMaxScaler()\n",
        "x_injury_scaled = min_max_scaler.fit_transform(X_injury)\n",
        "X_injury = pd.DataFrame(x_injury_scaled)\n",
        "X_injury.head()"
      ],
      "execution_count": null,
      "outputs": [
        {
          "output_type": "execute_result",
          "data": {
            "text/html": [
              "<div>\n",
              "<style scoped>\n",
              "    .dataframe tbody tr th:only-of-type {\n",
              "        vertical-align: middle;\n",
              "    }\n",
              "\n",
              "    .dataframe tbody tr th {\n",
              "        vertical-align: top;\n",
              "    }\n",
              "\n",
              "    .dataframe thead th {\n",
              "        text-align: right;\n",
              "    }\n",
              "</style>\n",
              "<table border=\"1\" class=\"dataframe\">\n",
              "  <thead>\n",
              "    <tr style=\"text-align: right;\">\n",
              "      <th></th>\n",
              "      <th>0</th>\n",
              "      <th>1</th>\n",
              "      <th>2</th>\n",
              "      <th>3</th>\n",
              "      <th>4</th>\n",
              "      <th>5</th>\n",
              "      <th>6</th>\n",
              "      <th>7</th>\n",
              "      <th>8</th>\n",
              "      <th>9</th>\n",
              "    </tr>\n",
              "  </thead>\n",
              "  <tbody>\n",
              "    <tr>\n",
              "      <th>0</th>\n",
              "      <td>0.0</td>\n",
              "      <td>0.000000</td>\n",
              "      <td>1.0</td>\n",
              "      <td>1.0</td>\n",
              "      <td>0.666667</td>\n",
              "      <td>0.0</td>\n",
              "      <td>0.142857</td>\n",
              "      <td>0.954545</td>\n",
              "      <td>0.588235</td>\n",
              "      <td>0.157895</td>\n",
              "    </tr>\n",
              "    <tr>\n",
              "      <th>1</th>\n",
              "      <td>0.0</td>\n",
              "      <td>0.000000</td>\n",
              "      <td>1.0</td>\n",
              "      <td>1.0</td>\n",
              "      <td>0.000000</td>\n",
              "      <td>0.5</td>\n",
              "      <td>0.285714</td>\n",
              "      <td>0.681818</td>\n",
              "      <td>0.411765</td>\n",
              "      <td>0.157895</td>\n",
              "    </tr>\n",
              "    <tr>\n",
              "      <th>2</th>\n",
              "      <td>1.0</td>\n",
              "      <td>0.214286</td>\n",
              "      <td>1.0</td>\n",
              "      <td>1.0</td>\n",
              "      <td>0.000000</td>\n",
              "      <td>0.5</td>\n",
              "      <td>0.142857</td>\n",
              "      <td>0.500000</td>\n",
              "      <td>0.000000</td>\n",
              "      <td>0.000000</td>\n",
              "    </tr>\n",
              "    <tr>\n",
              "      <th>3</th>\n",
              "      <td>0.0</td>\n",
              "      <td>0.285714</td>\n",
              "      <td>1.0</td>\n",
              "      <td>1.0</td>\n",
              "      <td>0.000000</td>\n",
              "      <td>0.5</td>\n",
              "      <td>1.000000</td>\n",
              "      <td>0.727273</td>\n",
              "      <td>0.764706</td>\n",
              "      <td>1.000000</td>\n",
              "    </tr>\n",
              "    <tr>\n",
              "      <th>4</th>\n",
              "      <td>0.0</td>\n",
              "      <td>0.928571</td>\n",
              "      <td>1.0</td>\n",
              "      <td>1.0</td>\n",
              "      <td>0.666667</td>\n",
              "      <td>0.5</td>\n",
              "      <td>0.857143</td>\n",
              "      <td>0.272727</td>\n",
              "      <td>0.823529</td>\n",
              "      <td>0.105263</td>\n",
              "    </tr>\n",
              "  </tbody>\n",
              "</table>\n",
              "</div>"
            ],
            "text/plain": [
              "     0         1    2    3  ...         6         7         8         9\n",
              "0  0.0  0.000000  1.0  1.0  ...  0.142857  0.954545  0.588235  0.157895\n",
              "1  0.0  0.000000  1.0  1.0  ...  0.285714  0.681818  0.411765  0.157895\n",
              "2  1.0  0.214286  1.0  1.0  ...  0.142857  0.500000  0.000000  0.000000\n",
              "3  0.0  0.285714  1.0  1.0  ...  1.000000  0.727273  0.764706  1.000000\n",
              "4  0.0  0.928571  1.0  1.0  ...  0.857143  0.272727  0.823529  0.105263\n",
              "\n",
              "[5 rows x 10 columns]"
            ]
          },
          "metadata": {
            "tags": []
          },
          "execution_count": 52
        }
      ]
    },
    {
      "cell_type": "code",
      "metadata": {
        "id": "JEFNZPjV2LrZ",
        "outputId": "ceba529b-b3c1-444a-afcc-7bfc6f4450e4",
        "colab": {
          "base_uri": "https://localhost:8080/",
          "height": 924
        }
      },
      "source": [
        "model_injury=Probit(Y_injury,X_injury.astype(float))\n",
        "probit_model_injury = model_injury.fit(maxiter=35)\n",
        "print(probit_model_injury.summary())\n",
        "mdl_inj=Logit(Y_injury,X_injury.astype(float))\n",
        "logit_mdl_inj=mdl_inj.fit(maxiter=35)\n",
        "print(logit_mdl_inj.summary())"
      ],
      "execution_count": null,
      "outputs": [
        {
          "output_type": "stream",
          "text": [
            "Warning: Maximum number of iterations has been exceeded.\n",
            "         Current function value: 0.689492\n",
            "         Iterations: 35\n",
            "                          Probit Regression Results                           \n",
            "==============================================================================\n",
            "Dep. Variable:       Risk Type Injury   No. Observations:                  176\n",
            "Model:                         Probit   Df Residuals:                      166\n",
            "Method:                           MLE   Df Model:                            9\n",
            "Date:                Thu, 17 Sep 2020   Pseudo R-squ.:               0.0001719\n",
            "Time:                        07:12:30   Log-Likelihood:                -121.35\n",
            "converged:                      False   LL-Null:                       -121.37\n",
            "Covariance Type:            nonrobust   LLR p-value:                     1.000\n",
            "==============================================================================\n",
            "                 coef    std err          z      P>|z|      [0.025      0.975]\n",
            "------------------------------------------------------------------------------\n",
            "0              1.1669      0.590      1.977      0.048       0.010       2.324\n",
            "1             -2.9214      0.577     -5.065      0.000      -4.052      -1.791\n",
            "2              0.2526      0.513      0.492      0.623      -0.753       1.258\n",
            "3            -18.0183      1.021    -17.644      0.000     -20.020     -16.017\n",
            "4             -0.5622      0.538     -1.045      0.296      -1.616       0.492\n",
            "5              2.9964      0.503      5.957      0.000       2.011       3.982\n",
            "6             -0.4422      0.612     -0.722      0.470      -1.642       0.758\n",
            "7             29.0897      0.786     37.030      0.000      27.550      30.629\n",
            "8             -3.0726      0.702     -4.374      0.000      -4.449      -1.696\n",
            "9             11.2475      1.308      8.599      0.000       8.684      13.811\n",
            "==============================================================================\n",
            "Optimization terminated successfully.\n",
            "         Current function value: 0.598600\n",
            "         Iterations 6\n",
            "                           Logit Regression Results                           \n",
            "==============================================================================\n",
            "Dep. Variable:       Risk Type Injury   No. Observations:                  176\n",
            "Model:                          Logit   Df Residuals:                      166\n",
            "Method:                           MLE   Df Model:                            9\n",
            "Date:                Thu, 17 Sep 2020   Pseudo R-squ.:                  0.1320\n",
            "Time:                        07:12:30   Log-Likelihood:                -105.35\n",
            "converged:                       True   LL-Null:                       -121.37\n",
            "Covariance Type:            nonrobust   LLR p-value:                 0.0001959\n",
            "==============================================================================\n",
            "                 coef    std err          z      P>|z|      [0.025      0.975]\n",
            "------------------------------------------------------------------------------\n",
            "0             -0.0246      0.499     -0.049      0.961      -1.002       0.953\n",
            "1              0.2448      0.595      0.412      0.681      -0.921       1.410\n",
            "2              0.0294      0.479      0.061      0.951      -0.909       0.968\n",
            "3             -0.3506      1.054     -0.333      0.739      -2.416       1.715\n",
            "4              0.0258      0.443      0.058      0.954      -0.842       0.894\n",
            "5             -0.1765      0.551     -0.320      0.749      -1.257       0.904\n",
            "6             -0.1456      0.532     -0.274      0.784      -1.189       0.897\n",
            "7             -1.4018      1.605     -0.873      0.382      -4.548       1.744\n",
            "8              3.0012      1.740      1.724      0.085      -0.410       6.412\n",
            "9              1.4206      2.602      0.546      0.585      -3.679       6.521\n",
            "==============================================================================\n"
          ],
          "name": "stdout"
        },
        {
          "output_type": "stream",
          "text": [
            "/usr/local/lib/python3.6/dist-packages/statsmodels/base/model.py:512: ConvergenceWarning: Maximum Likelihood optimization failed to converge. Check mle_retvals\n",
            "  \"Check mle_retvals\", ConvergenceWarning)\n"
          ],
          "name": "stderr"
        }
      ]
    },
    {
      "cell_type": "code",
      "metadata": {
        "id": "Iix_uhpg2Lph",
        "outputId": "e1e776eb-7dc5-4d1b-eccf-ed130ff87476",
        "colab": {
          "base_uri": "https://localhost:8080/",
          "height": 655
        }
      },
      "source": [
        "mfx = probit_model_injury.get_margeff()\n",
        "print(mfx.summary())\n",
        "mlx = logit_mdl_inj.get_margeff()\n",
        "print(mlx.summary())"
      ],
      "execution_count": null,
      "outputs": [
        {
          "output_type": "stream",
          "text": [
            "       Probit Marginal Effects       \n",
            "=====================================\n",
            "Dep. Variable:       Risk Type Injury\n",
            "Method:                          dydx\n",
            "At:                           overall\n",
            "==============================================================================\n",
            "                dy/dx    std err          z      P>|z|      [0.025      0.975]\n",
            "------------------------------------------------------------------------------\n",
            "0              0.0262      0.016      1.592      0.111      -0.006       0.059\n",
            "1             -0.0657      0.015     -4.354      0.000      -0.095      -0.036\n",
            "2              0.0057      0.011      0.509      0.610      -0.016       0.028\n",
            "3             -0.4052      0.064     -6.333      0.000      -0.531      -0.280\n",
            "4             -0.0126      0.011     -1.123      0.261      -0.035       0.009\n",
            "5              0.0674      0.012      5.743      0.000       0.044       0.090\n",
            "6             -0.0099      0.014     -0.735      0.462      -0.036       0.017\n",
            "7              0.6542      0.088      7.454      0.000       0.482       0.826\n",
            "8             -0.0691      0.009     -7.613      0.000      -0.087      -0.051\n",
            "9              0.2529      0.035      7.156      0.000       0.184       0.322\n",
            "==============================================================================\n",
            "        Logit Marginal Effects       \n",
            "=====================================\n",
            "Dep. Variable:       Risk Type Injury\n",
            "Method:                          dydx\n",
            "At:                           overall\n",
            "==============================================================================\n",
            "                dy/dx    std err          z      P>|z|      [0.025      0.975]\n",
            "------------------------------------------------------------------------------\n",
            "0             -0.0055      0.112     -0.049      0.961      -0.225       0.214\n",
            "1              0.0550      0.133      0.412      0.680      -0.206       0.316\n",
            "2              0.0066      0.108      0.061      0.951      -0.204       0.217\n",
            "3             -0.0787      0.236     -0.333      0.739      -0.542       0.384\n",
            "4              0.0058      0.099      0.058      0.954      -0.189       0.201\n",
            "5             -0.0396      0.124     -0.320      0.749      -0.282       0.203\n",
            "6             -0.0327      0.119     -0.274      0.784      -0.267       0.201\n",
            "7             -0.3147      0.358     -0.880      0.379      -1.016       0.386\n",
            "8              0.6738      0.378      1.782      0.075      -0.067       1.415\n",
            "9              0.3189      0.583      0.547      0.584      -0.823       1.461\n",
            "==============================================================================\n"
          ],
          "name": "stdout"
        }
      ]
    },
    {
      "cell_type": "code",
      "metadata": {
        "id": "4AohwvqsOMrW",
        "outputId": "162f09e4-9123-46f4-f0ec-c6871b47941a",
        "colab": {
          "base_uri": "https://localhost:8080/",
          "height": 252
        }
      },
      "source": [
        "Y_Environment=df['Risk Type Environment']\n",
        "X_Environment = df.drop([\"Risk Type Environment\"], axis=1)\n",
        "X_Environment= X_Environment.drop(['date','Time','IO-Department','Brief Description', 'Datetime', 'month', 'day', 'dayofweek', 'hour'],axis=1)\n",
        "#X=df['Risk Type Equipment','Risk Type Environment','Risk Type Reputation']\n",
        "#train = train.drop(['Name','Ticket', 'Cabin','Embarked'], axis=1)\n",
        "print(X_Environment.head())\n",
        "X_Environment= X_Environment.apply (pd.to_numeric, errors='coerce')\n",
        "X_Environment =  X_Environment.replace(np.nan,0)\n",
        "Y_Environment = Y_Environment.apply (pd.to_numeric, errors='coerce')\n",
        "Y_Environment =  Y_Environment.replace(np.nan,0)\n",
        "X_Environment.isnull().values.any()\n",
        "X_Environment.isnull().sum().sum()\n",
        "Y_Environment.head()"
      ],
      "execution_count": null,
      "outputs": [
        {
          "output_type": "stream",
          "text": [
            "   Shift  IO-Division  ...  Risk Type Injury  Risk Type Reputation\n",
            "0      0            0  ...              17.0                  18.0\n",
            "1      0            0  ...              20.0                  18.0\n",
            "2      2            3  ...              10.0                  15.0\n",
            "3      0            4  ...              25.0                  34.0\n",
            "4      0           13  ...              23.0                  17.0\n",
            "\n",
            "[5 rows x 10 columns]\n"
          ],
          "name": "stdout"
        },
        {
          "output_type": "execute_result",
          "data": {
            "text/plain": [
              "0    20.0\n",
              "1    17.0\n",
              "2    10.0\n",
              "3    23.0\n",
              "4    24.0\n",
              "Name: Risk Type Environment, dtype: float64"
            ]
          },
          "metadata": {
            "tags": []
          },
          "execution_count": 55
        }
      ]
    },
    {
      "cell_type": "code",
      "metadata": {
        "id": "TdJW6y_sOMwo",
        "outputId": "6bf794b4-a1d5-40a5-f8da-d8d8a65c9759",
        "colab": {
          "base_uri": "https://localhost:8080/",
          "height": 195
        }
      },
      "source": [
        "Y_Environment= (Y_Environment- min(Y_Environment))/(max(Y_Environment)-min(Y_Environment))  \n",
        "from sklearn import preprocessing\n",
        "X_Environment = X_Environment.values #returns a numpy array\n",
        "min_max_scaler = preprocessing.MinMaxScaler()\n",
        "x_Environment_scaled = min_max_scaler.fit_transform(X_Environment)\n",
        "X_Environment = pd.DataFrame(x_Environment_scaled)\n",
        "X_Environment.head()"
      ],
      "execution_count": null,
      "outputs": [
        {
          "output_type": "execute_result",
          "data": {
            "text/html": [
              "<div>\n",
              "<style scoped>\n",
              "    .dataframe tbody tr th:only-of-type {\n",
              "        vertical-align: middle;\n",
              "    }\n",
              "\n",
              "    .dataframe tbody tr th {\n",
              "        vertical-align: top;\n",
              "    }\n",
              "\n",
              "    .dataframe thead th {\n",
              "        text-align: right;\n",
              "    }\n",
              "</style>\n",
              "<table border=\"1\" class=\"dataframe\">\n",
              "  <thead>\n",
              "    <tr style=\"text-align: right;\">\n",
              "      <th></th>\n",
              "      <th>0</th>\n",
              "      <th>1</th>\n",
              "      <th>2</th>\n",
              "      <th>3</th>\n",
              "      <th>4</th>\n",
              "      <th>5</th>\n",
              "      <th>6</th>\n",
              "      <th>7</th>\n",
              "      <th>8</th>\n",
              "      <th>9</th>\n",
              "    </tr>\n",
              "  </thead>\n",
              "  <tbody>\n",
              "    <tr>\n",
              "      <th>0</th>\n",
              "      <td>0.0</td>\n",
              "      <td>0.000000</td>\n",
              "      <td>1.0</td>\n",
              "      <td>1.0</td>\n",
              "      <td>0.666667</td>\n",
              "      <td>0.0</td>\n",
              "      <td>0.142857</td>\n",
              "      <td>0.954545</td>\n",
              "      <td>0.521739</td>\n",
              "      <td>0.157895</td>\n",
              "    </tr>\n",
              "    <tr>\n",
              "      <th>1</th>\n",
              "      <td>0.0</td>\n",
              "      <td>0.000000</td>\n",
              "      <td>1.0</td>\n",
              "      <td>1.0</td>\n",
              "      <td>0.000000</td>\n",
              "      <td>0.5</td>\n",
              "      <td>0.285714</td>\n",
              "      <td>0.681818</td>\n",
              "      <td>0.652174</td>\n",
              "      <td>0.157895</td>\n",
              "    </tr>\n",
              "    <tr>\n",
              "      <th>2</th>\n",
              "      <td>1.0</td>\n",
              "      <td>0.214286</td>\n",
              "      <td>1.0</td>\n",
              "      <td>1.0</td>\n",
              "      <td>0.000000</td>\n",
              "      <td>0.5</td>\n",
              "      <td>0.142857</td>\n",
              "      <td>0.500000</td>\n",
              "      <td>0.217391</td>\n",
              "      <td>0.000000</td>\n",
              "    </tr>\n",
              "    <tr>\n",
              "      <th>3</th>\n",
              "      <td>0.0</td>\n",
              "      <td>0.285714</td>\n",
              "      <td>1.0</td>\n",
              "      <td>1.0</td>\n",
              "      <td>0.000000</td>\n",
              "      <td>0.5</td>\n",
              "      <td>1.000000</td>\n",
              "      <td>0.727273</td>\n",
              "      <td>0.869565</td>\n",
              "      <td>1.000000</td>\n",
              "    </tr>\n",
              "    <tr>\n",
              "      <th>4</th>\n",
              "      <td>0.0</td>\n",
              "      <td>0.928571</td>\n",
              "      <td>1.0</td>\n",
              "      <td>1.0</td>\n",
              "      <td>0.666667</td>\n",
              "      <td>0.5</td>\n",
              "      <td>0.857143</td>\n",
              "      <td>0.272727</td>\n",
              "      <td>0.782609</td>\n",
              "      <td>0.105263</td>\n",
              "    </tr>\n",
              "  </tbody>\n",
              "</table>\n",
              "</div>"
            ],
            "text/plain": [
              "     0         1    2    3  ...         6         7         8         9\n",
              "0  0.0  0.000000  1.0  1.0  ...  0.142857  0.954545  0.521739  0.157895\n",
              "1  0.0  0.000000  1.0  1.0  ...  0.285714  0.681818  0.652174  0.157895\n",
              "2  1.0  0.214286  1.0  1.0  ...  0.142857  0.500000  0.217391  0.000000\n",
              "3  0.0  0.285714  1.0  1.0  ...  1.000000  0.727273  0.869565  1.000000\n",
              "4  0.0  0.928571  1.0  1.0  ...  0.857143  0.272727  0.782609  0.105263\n",
              "\n",
              "[5 rows x 10 columns]"
            ]
          },
          "metadata": {
            "tags": []
          },
          "execution_count": 56
        }
      ]
    },
    {
      "cell_type": "code",
      "metadata": {
        "id": "Msz1r07hOMpd",
        "outputId": "15659e45-5fbf-424b-faff-0ae8f624bd02",
        "colab": {
          "base_uri": "https://localhost:8080/",
          "height": 991
        }
      },
      "source": [
        "model_Environment=Probit(Y_Environment,X_Environment.astype(float))\n",
        "probit_model_Environment = model_Environment.fit(maxiter=35)\n",
        "print(probit_model_Environment.summary())\n",
        "mdl_env=Logit(Y_Environment,X_Environment.astype(float))\n",
        "logit_mdl_env=mdl_env.fit(maxiter=35)\n",
        "print(logit_mdl_env.summary())"
      ],
      "execution_count": null,
      "outputs": [
        {
          "output_type": "stream",
          "text": [
            "Warning: Maximum number of iterations has been exceeded.\n",
            "         Current function value: 0.362236\n",
            "         Iterations: 35\n",
            "                            Probit Regression Results                            \n",
            "=================================================================================\n",
            "Dep. Variable:     Risk Type Environment   No. Observations:                  176\n",
            "Model:                            Probit   Df Residuals:                      166\n",
            "Method:                              MLE   Df Model:                            9\n",
            "Date:                   Thu, 17 Sep 2020   Pseudo R-squ.:                  0.3661\n",
            "Time:                           07:12:30   Log-Likelihood:                -63.754\n",
            "converged:                         False   LL-Null:                       -100.57\n",
            "Covariance Type:               nonrobust   LLR p-value:                 2.948e-12\n",
            "==============================================================================\n",
            "                 coef    std err          z      P>|z|      [0.025      0.975]\n",
            "------------------------------------------------------------------------------\n",
            "0              0.3823      0.599      0.639      0.523      -0.791       1.555\n",
            "1              5.3385      0.857      6.232      0.000       3.660       7.017\n",
            "2             -0.5970      0.622     -0.959      0.338      -1.817       0.623\n",
            "3            -21.4974      3.150     -6.825      0.000     -27.670     -15.324\n",
            "4              2.8233      0.605      4.670      0.000       1.638       4.008\n",
            "5             -3.7232      0.833     -4.472      0.000      -5.355      -2.091\n",
            "6              7.3653      0.692     10.637      0.000       6.008       8.722\n",
            "7             16.8479      1.434     11.748      0.000      14.037      19.659\n",
            "8             -6.2827      3.067     -2.049      0.040     -12.293      -0.272\n",
            "9             42.1962      2.009     21.005      0.000      38.259      46.134\n",
            "==============================================================================\n",
            "\n",
            "Possibly complete quasi-separation: A fraction 0.27 of observations can be\n",
            "perfectly predicted. This might indicate that there is complete\n",
            "quasi-separation. In this case some parameters will not be identified.\n",
            "Optimization terminated successfully.\n",
            "         Current function value: 0.478843\n",
            "         Iterations 7\n",
            "                             Logit Regression Results                            \n",
            "=================================================================================\n",
            "Dep. Variable:     Risk Type Environment   No. Observations:                  176\n",
            "Model:                             Logit   Df Residuals:                      166\n",
            "Method:                              MLE   Df Model:                            9\n",
            "Date:                   Thu, 17 Sep 2020   Pseudo R-squ.:                  0.1652\n",
            "Time:                           07:12:30   Log-Likelihood:                -84.276\n",
            "converged:                          True   LL-Null:                       -100.96\n",
            "Covariance Type:               nonrobust   LLR p-value:                 0.0001156\n",
            "==============================================================================\n",
            "                 coef    std err          z      P>|z|      [0.025      0.975]\n",
            "------------------------------------------------------------------------------\n",
            "0              0.1772      0.554      0.320      0.749      -0.908       1.262\n",
            "1             -0.0407      0.675     -0.060      0.952      -1.363       1.282\n",
            "2              0.0310      0.544      0.057      0.955      -1.036       1.098\n",
            "3             -5.7719      1.393     -4.145      0.000      -8.501      -3.042\n",
            "4              0.0511      0.492      0.104      0.917      -0.914       1.016\n",
            "5              0.1468      0.615      0.239      0.811      -1.059       1.352\n",
            "6              0.1723      0.608      0.283      0.777      -1.019       1.364\n",
            "7              3.3930      1.169      2.903      0.004       1.103       5.683\n",
            "8              3.6217      1.672      2.167      0.030       0.345       6.898\n",
            "9              3.8779      2.756      1.407      0.159      -1.524       9.279\n",
            "==============================================================================\n"
          ],
          "name": "stdout"
        },
        {
          "output_type": "stream",
          "text": [
            "/usr/local/lib/python3.6/dist-packages/statsmodels/base/model.py:512: ConvergenceWarning: Maximum Likelihood optimization failed to converge. Check mle_retvals\n",
            "  \"Check mle_retvals\", ConvergenceWarning)\n"
          ],
          "name": "stderr"
        }
      ]
    },
    {
      "cell_type": "code",
      "metadata": {
        "id": "vmUaTdPtOMnX",
        "outputId": "504153c3-af22-4c54-9cb6-033e992783d7",
        "colab": {
          "base_uri": "https://localhost:8080/",
          "height": 655
        }
      },
      "source": [
        "mfx = probit_model_Environment.get_margeff()\n",
        "print(mfx.summary())\n",
        "mlx = logit_mdl_env.get_margeff()\n",
        "print(mlx.summary())"
      ],
      "execution_count": null,
      "outputs": [
        {
          "output_type": "stream",
          "text": [
            "        Probit Marginal Effects         \n",
            "========================================\n",
            "Dep. Variable:     Risk Type Environment\n",
            "Method:                             dydx\n",
            "At:                              overall\n",
            "==============================================================================\n",
            "                dy/dx    std err          z      P>|z|      [0.025      0.975]\n",
            "------------------------------------------------------------------------------\n",
            "0              0.0195      0.032      0.618      0.537      -0.042       0.081\n",
            "1              0.2727      0.052      5.198      0.000       0.170       0.375\n",
            "2             -0.0305      0.033     -0.925      0.355      -0.095       0.034\n",
            "3             -1.0980      0.109    -10.086      0.000      -1.311      -0.885\n",
            "4              0.1442      0.045      3.227      0.001       0.057       0.232\n",
            "5             -0.1902      0.050     -3.786      0.000      -0.289      -0.092\n",
            "6              0.3762      0.064      5.905      0.000       0.251       0.501\n",
            "7              0.8605      0.074     11.640      0.000       0.716       1.005\n",
            "8             -0.3209      0.198     -1.623      0.105      -0.708       0.067\n",
            "9              2.1553      0.324      6.643      0.000       1.519       2.791\n",
            "==============================================================================\n",
            "         Logit Marginal Effects         \n",
            "========================================\n",
            "Dep. Variable:     Risk Type Environment\n",
            "Method:                             dydx\n",
            "At:                              overall\n",
            "==============================================================================\n",
            "                dy/dx    std err          z      P>|z|      [0.025      0.975]\n",
            "------------------------------------------------------------------------------\n",
            "0              0.0313      0.098      0.321      0.749      -0.160       0.223\n",
            "1             -0.0072      0.119     -0.060      0.952      -0.241       0.226\n",
            "2              0.0055      0.096      0.057      0.955      -0.183       0.194\n",
            "3             -1.0199      0.204     -5.001      0.000      -1.420      -0.620\n",
            "4              0.0090      0.087      0.104      0.917      -0.161       0.179\n",
            "5              0.0259      0.109      0.239      0.811      -0.187       0.239\n",
            "6              0.0304      0.107      0.284      0.777      -0.180       0.241\n",
            "7              0.5996      0.188      3.197      0.001       0.232       0.967\n",
            "8              0.6400      0.286      2.240      0.025       0.080       1.200\n",
            "9              0.6853      0.478      1.434      0.151      -0.251       1.622\n",
            "==============================================================================\n"
          ],
          "name": "stdout"
        }
      ]
    },
    {
      "cell_type": "code",
      "metadata": {
        "id": "A8y6BdwYOMlG",
        "outputId": "1a593660-25d9-4ecb-d03c-b43bedf9999a",
        "colab": {
          "base_uri": "https://localhost:8080/",
          "height": 252
        }
      },
      "source": [
        "Y_reputation=df['Risk Type Reputation']\n",
        "X_reputation = df.drop([\"Risk Type Reputation\"], axis=1)\n",
        "X_reputation= X_reputation.drop(['date','Time','IO-Department','Brief Description', 'Datetime', 'month', 'day', 'dayofweek', 'hour'],axis=1)\n",
        "#X=df['Risk Type Equipment','Risk Type Environment','Risk Type Reputation']\n",
        "#train = train.drop(['Name','Ticket', 'Cabin','Embarked'], axis=1)\n",
        "print(X_reputation.head())\n",
        "X_reputation= X_reputation.apply (pd.to_numeric, errors='coerce')\n",
        "X_reputation =  X_reputation.replace(np.nan,0)\n",
        "Y_reputation = Y_reputation.apply (pd.to_numeric, errors='coerce')\n",
        "Y_reputation =  Y_reputation.replace(np.nan,0)\n",
        "X_reputation.isnull().values.any()\n",
        "X_reputation.isnull().sum().sum()\n",
        "Y_reputation.head()"
      ],
      "execution_count": null,
      "outputs": [
        {
          "output_type": "stream",
          "text": [
            "   Shift  IO-Division  ...  Risk Type Environment  Risk Type Injury\n",
            "0      0            0  ...                   20.0              17.0\n",
            "1      0            0  ...                   17.0              20.0\n",
            "2      2            3  ...                   10.0              10.0\n",
            "3      0            4  ...                   23.0              25.0\n",
            "4      0           13  ...                   24.0              23.0\n",
            "\n",
            "[5 rows x 10 columns]\n"
          ],
          "name": "stdout"
        },
        {
          "output_type": "execute_result",
          "data": {
            "text/plain": [
              "0    18.0\n",
              "1    18.0\n",
              "2    15.0\n",
              "3    34.0\n",
              "4    17.0\n",
              "Name: Risk Type Reputation, dtype: float64"
            ]
          },
          "metadata": {
            "tags": []
          },
          "execution_count": 59
        }
      ]
    },
    {
      "cell_type": "code",
      "metadata": {
        "id": "KUxHIhDKRB0c",
        "outputId": "e7dac75c-f842-4c2d-8833-2286d3f73847",
        "colab": {
          "base_uri": "https://localhost:8080/",
          "height": 195
        }
      },
      "source": [
        "Y_reputation= (Y_reputation- min(Y_reputation))/(max(Y_reputation)-min(Y_reputation))  \n",
        "from sklearn import preprocessing\n",
        "X_reputation = X_reputation.values #returns a numpy array\n",
        "min_max_scaler = preprocessing.MinMaxScaler()\n",
        "x_reputation_scaled = min_max_scaler.fit_transform(X_reputation)\n",
        "X_reputation = pd.DataFrame(x_reputation_scaled)\n",
        "X_reputation.head()"
      ],
      "execution_count": null,
      "outputs": [
        {
          "output_type": "execute_result",
          "data": {
            "text/html": [
              "<div>\n",
              "<style scoped>\n",
              "    .dataframe tbody tr th:only-of-type {\n",
              "        vertical-align: middle;\n",
              "    }\n",
              "\n",
              "    .dataframe tbody tr th {\n",
              "        vertical-align: top;\n",
              "    }\n",
              "\n",
              "    .dataframe thead th {\n",
              "        text-align: right;\n",
              "    }\n",
              "</style>\n",
              "<table border=\"1\" class=\"dataframe\">\n",
              "  <thead>\n",
              "    <tr style=\"text-align: right;\">\n",
              "      <th></th>\n",
              "      <th>0</th>\n",
              "      <th>1</th>\n",
              "      <th>2</th>\n",
              "      <th>3</th>\n",
              "      <th>4</th>\n",
              "      <th>5</th>\n",
              "      <th>6</th>\n",
              "      <th>7</th>\n",
              "      <th>8</th>\n",
              "      <th>9</th>\n",
              "    </tr>\n",
              "  </thead>\n",
              "  <tbody>\n",
              "    <tr>\n",
              "      <th>0</th>\n",
              "      <td>0.0</td>\n",
              "      <td>0.000000</td>\n",
              "      <td>1.0</td>\n",
              "      <td>1.0</td>\n",
              "      <td>0.666667</td>\n",
              "      <td>0.0</td>\n",
              "      <td>0.142857</td>\n",
              "      <td>0.954545</td>\n",
              "      <td>0.588235</td>\n",
              "      <td>0.521739</td>\n",
              "    </tr>\n",
              "    <tr>\n",
              "      <th>1</th>\n",
              "      <td>0.0</td>\n",
              "      <td>0.000000</td>\n",
              "      <td>1.0</td>\n",
              "      <td>1.0</td>\n",
              "      <td>0.000000</td>\n",
              "      <td>0.5</td>\n",
              "      <td>0.285714</td>\n",
              "      <td>0.681818</td>\n",
              "      <td>0.411765</td>\n",
              "      <td>0.652174</td>\n",
              "    </tr>\n",
              "    <tr>\n",
              "      <th>2</th>\n",
              "      <td>1.0</td>\n",
              "      <td>0.214286</td>\n",
              "      <td>1.0</td>\n",
              "      <td>1.0</td>\n",
              "      <td>0.000000</td>\n",
              "      <td>0.5</td>\n",
              "      <td>0.142857</td>\n",
              "      <td>0.500000</td>\n",
              "      <td>0.000000</td>\n",
              "      <td>0.217391</td>\n",
              "    </tr>\n",
              "    <tr>\n",
              "      <th>3</th>\n",
              "      <td>0.0</td>\n",
              "      <td>0.285714</td>\n",
              "      <td>1.0</td>\n",
              "      <td>1.0</td>\n",
              "      <td>0.000000</td>\n",
              "      <td>0.5</td>\n",
              "      <td>1.000000</td>\n",
              "      <td>0.727273</td>\n",
              "      <td>0.764706</td>\n",
              "      <td>0.869565</td>\n",
              "    </tr>\n",
              "    <tr>\n",
              "      <th>4</th>\n",
              "      <td>0.0</td>\n",
              "      <td>0.928571</td>\n",
              "      <td>1.0</td>\n",
              "      <td>1.0</td>\n",
              "      <td>0.666667</td>\n",
              "      <td>0.5</td>\n",
              "      <td>0.857143</td>\n",
              "      <td>0.272727</td>\n",
              "      <td>0.823529</td>\n",
              "      <td>0.782609</td>\n",
              "    </tr>\n",
              "  </tbody>\n",
              "</table>\n",
              "</div>"
            ],
            "text/plain": [
              "     0         1    2    3  ...         6         7         8         9\n",
              "0  0.0  0.000000  1.0  1.0  ...  0.142857  0.954545  0.588235  0.521739\n",
              "1  0.0  0.000000  1.0  1.0  ...  0.285714  0.681818  0.411765  0.652174\n",
              "2  1.0  0.214286  1.0  1.0  ...  0.142857  0.500000  0.000000  0.217391\n",
              "3  0.0  0.285714  1.0  1.0  ...  1.000000  0.727273  0.764706  0.869565\n",
              "4  0.0  0.928571  1.0  1.0  ...  0.857143  0.272727  0.823529  0.782609\n",
              "\n",
              "[5 rows x 10 columns]"
            ]
          },
          "metadata": {
            "tags": []
          },
          "execution_count": 60
        }
      ]
    },
    {
      "cell_type": "code",
      "metadata": {
        "id": "O4eB6cE4RB6h",
        "outputId": "d02d5a9e-bd02-4e25-f8f3-36cbf30dfc78",
        "colab": {
          "base_uri": "https://localhost:8080/",
          "height": 991
        }
      },
      "source": [
        "model_reputation=Probit(Y_reputation,X_reputation.astype(float))\n",
        "probit_model_reputation = model_reputation.fit(maxiter=35)\n",
        "print(probit_model_reputation.summary())\n",
        "mdl_rep=Logit(Y_reputation,X_reputation.astype(float))\n",
        "logit_mdl_rep=mdl_rep.fit(maxiter=35)\n",
        "print(logit_mdl_rep.summary())"
      ],
      "execution_count": null,
      "outputs": [
        {
          "output_type": "stream",
          "text": [
            "Warning: Maximum number of iterations has been exceeded.\n",
            "         Current function value: 0.024899\n",
            "         Iterations: 35\n",
            "                           Probit Regression Results                            \n",
            "================================================================================\n",
            "Dep. Variable:     Risk Type Reputation   No. Observations:                  176\n",
            "Model:                           Probit   Df Residuals:                      166\n",
            "Method:                             MLE   Df Model:                            9\n",
            "Date:                  Thu, 17 Sep 2020   Pseudo R-squ.:                  0.6935\n",
            "Time:                          07:12:30   Log-Likelihood:                -4.3822\n",
            "converged:                        False   LL-Null:                       -14.298\n",
            "Covariance Type:              nonrobust   LLR p-value:                   0.01898\n",
            "==============================================================================\n",
            "                 coef    std err          z      P>|z|      [0.025      0.975]\n",
            "------------------------------------------------------------------------------\n",
            "0             -7.7286      4.755     -1.625      0.104     -17.048       1.590\n",
            "1            -11.8478      7.328     -1.617      0.106     -26.211       2.515\n",
            "2             -1.7208      3.679     -0.468      0.640      -8.932       5.490\n",
            "3            -15.2222      3.374     -4.511      0.000     -21.836      -8.608\n",
            "4             -2.0510      8.890     -0.231      0.818     -19.476      15.373\n",
            "5              0.8655      4.095      0.211      0.833      -7.160       8.891\n",
            "6              5.1804      6.243      0.830      0.407      -7.055      17.416\n",
            "7             -7.0747      6.377     -1.109      0.267     -19.573       5.423\n",
            "8             24.7193     10.855      2.277      0.023       3.444      45.995\n",
            "9              3.9078     11.554      0.338      0.735     -18.738      26.553\n",
            "==============================================================================\n",
            "\n",
            "Possibly complete quasi-separation: A fraction 0.28 of observations can be\n",
            "perfectly predicted. This might indicate that there is complete\n",
            "quasi-separation. In this case some parameters will not be identified.\n",
            "Optimization terminated successfully.\n",
            "         Current function value: 0.224017\n",
            "         Iterations 7\n",
            "                            Logit Regression Results                            \n",
            "================================================================================\n",
            "Dep. Variable:     Risk Type Reputation   No. Observations:                  176\n",
            "Model:                            Logit   Df Residuals:                      166\n",
            "Method:                             MLE   Df Model:                            9\n",
            "Date:                  Thu, 17 Sep 2020   Pseudo R-squ.:                  -2.001\n",
            "Time:                          07:12:30   Log-Likelihood:                -39.427\n",
            "converged:                         True   LL-Null:                       -13.138\n",
            "Covariance Type:              nonrobust   LLR p-value:                     1.000\n",
            "==============================================================================\n",
            "                 coef    std err          z      P>|z|      [0.025      0.975]\n",
            "------------------------------------------------------------------------------\n",
            "0             -0.3352      0.729     -0.460      0.646      -1.764       1.093\n",
            "1             -0.6120      0.874     -0.701      0.484      -2.324       1.100\n",
            "2              0.0416      0.705      0.059      0.953      -1.340       1.424\n",
            "3             -3.1392      1.630     -1.926      0.054      -6.334       0.055\n",
            "4             -0.4515      0.659     -0.685      0.493      -1.743       0.840\n",
            "5              0.2644      0.795      0.332      0.740      -1.295       1.823\n",
            "6             -0.1181      0.778     -0.152      0.879      -1.643       1.407\n",
            "7             -0.9777      1.575     -0.621      0.535      -4.065       2.109\n",
            "8              3.9267      1.867      2.103      0.035       0.267       7.586\n",
            "9              1.2781      1.936      0.660      0.509      -2.517       5.073\n",
            "==============================================================================\n"
          ],
          "name": "stdout"
        },
        {
          "output_type": "stream",
          "text": [
            "/usr/local/lib/python3.6/dist-packages/statsmodels/base/model.py:512: ConvergenceWarning: Maximum Likelihood optimization failed to converge. Check mle_retvals\n",
            "  \"Check mle_retvals\", ConvergenceWarning)\n"
          ],
          "name": "stderr"
        }
      ]
    },
    {
      "cell_type": "code",
      "metadata": {
        "id": "2pKO8s13RByg",
        "outputId": "d966e142-c61e-40e6-f90d-a3ac11cbdc43",
        "colab": {
          "base_uri": "https://localhost:8080/",
          "height": 655
        }
      },
      "source": [
        "mfx = probit_model_reputation.get_margeff()\n",
        "print(mfx.summary())\n",
        "mlx = logit_mdl_rep.get_margeff()\n",
        "print(mlx.summary())"
      ],
      "execution_count": null,
      "outputs": [
        {
          "output_type": "stream",
          "text": [
            "        Probit Marginal Effects        \n",
            "=======================================\n",
            "Dep. Variable:     Risk Type Reputation\n",
            "Method:                            dydx\n",
            "At:                             overall\n",
            "==============================================================================\n",
            "                dy/dx    std err          z      P>|z|      [0.025      0.975]\n",
            "------------------------------------------------------------------------------\n",
            "0             -0.0011      0.013     -0.084      0.933      -0.027       0.025\n",
            "1             -0.0017      0.019     -0.091      0.928      -0.039       0.036\n",
            "2             -0.0003      0.003     -0.081      0.935      -0.006       0.006\n",
            "3             -0.0022      0.026     -0.086      0.931      -0.052       0.048\n",
            "4             -0.0003      0.002     -0.122      0.903      -0.005       0.004\n",
            "5              0.0001      0.002      0.079      0.937      -0.003       0.003\n",
            "6              0.0008      0.008      0.091      0.928      -0.016       0.017\n",
            "7             -0.0010      0.011     -0.090      0.928      -0.023       0.021\n",
            "8              0.0036      0.042      0.086      0.931      -0.078       0.085\n",
            "9              0.0006      0.006      0.098      0.922      -0.011       0.012\n",
            "==============================================================================\n",
            "         Logit Marginal Effects        \n",
            "=======================================\n",
            "Dep. Variable:     Risk Type Reputation\n",
            "Method:                            dydx\n",
            "At:                             overall\n",
            "==============================================================================\n",
            "                dy/dx    std err          z      P>|z|      [0.025      0.975]\n",
            "------------------------------------------------------------------------------\n",
            "0             -0.0347      0.075     -0.460      0.645      -0.183       0.113\n",
            "1             -0.0634      0.090     -0.701      0.483      -0.241       0.114\n",
            "2              0.0043      0.073      0.059      0.953      -0.139       0.147\n",
            "3             -0.3251      0.167     -1.941      0.052      -0.653       0.003\n",
            "4             -0.0468      0.068     -0.685      0.493      -0.181       0.087\n",
            "5              0.0274      0.082      0.332      0.740      -0.134       0.189\n",
            "6             -0.0122      0.081     -0.152      0.879      -0.170       0.146\n",
            "7             -0.1012      0.162     -0.625      0.532      -0.419       0.216\n",
            "8              0.4066      0.189      2.148      0.032       0.036       0.778\n",
            "9              0.1324      0.201      0.659      0.510      -0.261       0.526\n",
            "==============================================================================\n"
          ],
          "name": "stdout"
        }
      ]
    },
    {
      "cell_type": "code",
      "metadata": {
        "id": "8rXXXhs-NYM8"
      },
      "source": [
        ""
      ],
      "execution_count": null,
      "outputs": []
    }
  ]
}